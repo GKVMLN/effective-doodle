{
 "cells": [
  {
   "cell_type": "markdown",
   "id": "31adfa76-fac6-40bf-9419-89088d4788d1",
   "metadata": {},
   "source": [
    "# Binary classification: offers on the marketplace\n",
    "\n",
    "##### Задача бинарной классификации по сопоставлению товаров между собой с целью детекции матчей"
   ]
  },
  {
   "cell_type": "markdown",
   "id": "5464eea7",
   "metadata": {
    "id": "5464eea7"
   },
   "source": [
    "### Описание задачи\n",
    "\n",
    "В распоряжении обезличенные данные по товарным предложениям продавцов (предложение) и товарного ассортимента маркетплейса «Мегамаркет» (товары). В данных для каждого предложения найдены самые популярные товары в ассортименте, и указаны основные характеристики этой пары. Необходимо только классифицировать, какой из пар является совпадением, а какой — нет.\n",
    "\n",
    "##### Метрика\n",
    "Оценка качества модели будет производиться с использованием метрики **F1**"
   ]
  },
  {
   "cell_type": "markdown",
   "id": "49529ea9",
   "metadata": {
    "id": "49529ea9"
   },
   "source": [
    "### Описание данных:\n",
    "\n",
    "- **train.csv** (тренировочный набор данных)\n",
    "- **test.csv**(тестовый набор)\n",
    "\n",
    "##### Columns\n",
    "\n",
    "- **offer_depersanalised** и **goods_depersanalised** - идентификаторы предложения и товара соответственно\n",
    "- **sum_length** - суммарная длина пары названий и атрибутов в символах\n",
    "- **attrs+title_score** - вероятность матча от рескоринговой модели\n",
    "- **offer_price** и **item_price** - цена предложения и товара соответственно\n",
    "- **goods_category_id** - категория товара\n",
    "- **id** - идентификатор пары offer_depersanalised + $ + goods_depersanalised\n",
    "- **target** (только в train.csv) - метка класса (0 - не матч, 1 - матч)\n",
    "\n",
    "\n",
    "##### Embeddings\n",
    "\n",
    "- **goods_image_vectors** и **offer_image_vectors** - содержат файлы с векторами изображений (embed_deperson.npy) и их идентификаторами (items_deperson.npy) для товаров ассортимента и предложений соответсвенно. Объекты в файлах соотносятся 1 к 1\n",
    "- **goods_title_vectors** и **offer_title_vectors** - содержат файлы с векторами названий+атрибутов (embed_deperson.npy) и их идентификаторами (items_deperson.npy) для товаров ассортимента и предложений соответсвенно. Объекты в файлах соотносятся 1 к 1"
   ]
  },
  {
   "cell_type": "markdown",
   "id": "374c38cb",
   "metadata": {
    "id": "374c38cb"
   },
   "source": [
    "# Загрузка необходимых библиотек и датафреймов"
   ]
  },
  {
   "cell_type": "markdown",
   "id": "fdd66eab-e9f6-4128-b38d-36171cf3342c",
   "metadata": {},
   "source": [
    "## Импорт библиотек"
   ]
  },
  {
   "cell_type": "code",
   "execution_count": 1,
   "id": "5d5a6bec",
   "metadata": {
    "id": "5d5a6bec"
   },
   "outputs": [],
   "source": [
    "import pandas as pd\n",
    "import numpy as np\n",
    "\n",
    "import seaborn as sns\n",
    "import matplotlib.pyplot as plt\n",
    "import missingno as msno\n",
    "\n",
    "from sklearn.decomposition import PCA\n",
    "\n",
    "from sklearn.model_selection import train_test_split, GridSearchCV\n",
    "from sklearn.pipeline import Pipeline\n",
    "from sklearn.preprocessing import StandardScaler\n",
    "from sklearn.metrics import f1_score, confusion_matrix\n",
    "\n",
    "from sklearn.ensemble import GradientBoostingClassifier\n",
    "from sklearn.linear_model import LogisticRegression\n",
    "from sklearn.dummy import DummyClassifier"
   ]
  },
  {
   "cell_type": "markdown",
   "id": "0d8ddf32-a174-4521-aa0d-ab4411b9ae81",
   "metadata": {},
   "source": [
    "## Определение значения констант"
   ]
  },
  {
   "cell_type": "code",
   "execution_count": 2,
   "id": "6670eb40-c19e-44cc-a2d7-e7eee3813090",
   "metadata": {},
   "outputs": [],
   "source": [
    "RANDOM_STATE = 123456\n",
    "TEST_SIZE = 0.3"
   ]
  },
  {
   "cell_type": "markdown",
   "id": "3d5c1d4b-5789-44a3-a1fc-20503198e252",
   "metadata": {},
   "source": [
    "## Настройка вывода данных"
   ]
  },
  {
   "cell_type": "code",
   "execution_count": 3,
   "id": "7eb96e1c-b344-417d-9d3c-30b0ec9164ac",
   "metadata": {},
   "outputs": [],
   "source": [
    "# Параметры отображения\n",
    "pd.set_option('display.float_format', '{:.2f}'.format)\n",
    "pd.set_option('display.max_colwidth', None)\n",
    "pd.set_option('display.max_columns', None)\n",
    "pd.set_option('display.max_rows', 150)"
   ]
  },
  {
   "cell_type": "markdown",
   "id": "08989188-e99f-4cb1-98db-d0b237c2f45d",
   "metadata": {},
   "source": [
    "## Загрузка данных"
   ]
  },
  {
   "cell_type": "code",
   "execution_count": 4,
   "id": "b6570bb9",
   "metadata": {
    "id": "b6570bb9"
   },
   "outputs": [],
   "source": [
    "# Путь к файлу\n",
    "path_to_dir = ''"
   ]
  },
  {
   "cell_type": "code",
   "execution_count": 5,
   "id": "9859493e",
   "metadata": {
    "id": "9859493e"
   },
   "outputs": [],
   "source": [
    "sample_submission = pd.read_csv(path_to_dir + 'sample_submission.csv')\n",
    "test = pd.read_csv(path_to_dir + 'test.csv')\n",
    "train = pd.read_csv(path_to_dir + 'train.csv')"
   ]
  },
  {
   "cell_type": "code",
   "execution_count": 6,
   "id": "1011caf8",
   "metadata": {
    "id": "1011caf8"
   },
   "outputs": [],
   "source": [
    "# Файлы с векторами изображений\n",
    "goods_image_embed = np.load(path_to_dir + 'goods_image_vectors/embed_deperson.npy')\n",
    "goods_image_items = np.load(path_to_dir + 'goods_image_vectors/items_deperson.npy')\n",
    "\n",
    "goods_title_embed = np.load(path_to_dir + 'goods_title_vectors/embed_deperson.npy')\n",
    "goods_title_items = np.load(path_to_dir + 'goods_title_vectors/items_deperson.npy')\n",
    "\n",
    "# Файлы с векторами названий+атрибутов и их идентификаторы\n",
    "offer_image_embed = np.load(path_to_dir + 'offer_image_vectors/embed_deperson.npy')\n",
    "offer_image_items = np.load(path_to_dir + 'offer_image_vectors/items_deperson.npy')\n",
    "\n",
    "offer_title_embed = np.load(path_to_dir + 'offer_title_vectors/embed_deperson.npy')\n",
    "offer_title_items = np.load(path_to_dir + 'offer_title_vectors/items_deperson.npy')\n"
   ]
  },
  {
   "cell_type": "markdown",
   "id": "e5e5dc98",
   "metadata": {},
   "source": [
    "# Изучение общей информации"
   ]
  },
  {
   "cell_type": "markdown",
   "id": "343a1030-d033-4cc3-9cf3-b4a5c49ea6ab",
   "metadata": {},
   "source": [
    "## Функция обзора данных"
   ]
  },
  {
   "cell_type": "code",
   "execution_count": 7,
   "id": "b76dfe08-2787-437d-baae-ab74e2e2287e",
   "metadata": {},
   "outputs": [],
   "source": [
    "def review(data):\n",
    "\n",
    "    print('\\033[1m \\nОбщая информация: \\n\\033[0m \\n')\n",
    "    data.info()\n",
    "    display(data.head(2))\n",
    "    display(data.tail(2))\n",
    "\n",
    "    print('\\n\\033[1m Пропуски в данных: \\033[0m \\n')\n",
    "    display(data.isna().sum())\n",
    "    print('\\n\\033[1m Всего пропущенных значений: \\033[0m', data.isna().sum().sum())\n",
    "    print('\\n\\033[1m Количество явных дублей: \\033[0m', data.duplicated().sum())\n",
    "    \n",
    "    print('\\n\\033[1m Основные статистические характеристики данных: \\033[0m')\n",
    "    display(data.describe(include='all'))"
   ]
  },
  {
   "cell_type": "markdown",
   "id": "d6325880-48b0-4978-99d7-89027e0be8fc",
   "metadata": {},
   "source": [
    "## Тренировочный набор данных"
   ]
  },
  {
   "cell_type": "code",
   "execution_count": 8,
   "id": "a440d87e",
   "metadata": {},
   "outputs": [
    {
     "name": "stdout",
     "output_type": "stream",
     "text": [
      "\u001b[1m \n",
      "Общая информация: \n",
      "\u001b[0m \n",
      "\n",
      "<class 'pandas.core.frame.DataFrame'>\n",
      "RangeIndex: 2518441 entries, 0 to 2518440\n",
      "Data columns (total 9 columns):\n",
      " #   Column                Dtype  \n",
      "---  ------                -----  \n",
      " 0   offer_depersanalised  int64  \n",
      " 1   goods_depersanalised  int64  \n",
      " 2   sum_length            int64  \n",
      " 3   attrs+title_score     float64\n",
      " 4   offer_price           int64  \n",
      " 5   goods_price           float64\n",
      " 6   goods_category_id     float64\n",
      " 7   target                int64  \n",
      " 8   id                    object \n",
      "dtypes: float64(3), int64(5), object(1)\n",
      "memory usage: 172.9+ MB\n"
     ]
    },
    {
     "data": {
      "text/html": [
       "<div>\n",
       "<style scoped>\n",
       "    .dataframe tbody tr th:only-of-type {\n",
       "        vertical-align: middle;\n",
       "    }\n",
       "\n",
       "    .dataframe tbody tr th {\n",
       "        vertical-align: top;\n",
       "    }\n",
       "\n",
       "    .dataframe thead th {\n",
       "        text-align: right;\n",
       "    }\n",
       "</style>\n",
       "<table border=\"1\" class=\"dataframe\">\n",
       "  <thead>\n",
       "    <tr style=\"text-align: right;\">\n",
       "      <th></th>\n",
       "      <th>offer_depersanalised</th>\n",
       "      <th>goods_depersanalised</th>\n",
       "      <th>sum_length</th>\n",
       "      <th>attrs+title_score</th>\n",
       "      <th>offer_price</th>\n",
       "      <th>goods_price</th>\n",
       "      <th>goods_category_id</th>\n",
       "      <th>target</th>\n",
       "      <th>id</th>\n",
       "    </tr>\n",
       "  </thead>\n",
       "  <tbody>\n",
       "    <tr>\n",
       "      <th>0</th>\n",
       "      <td>295140</td>\n",
       "      <td>1396793</td>\n",
       "      <td>37</td>\n",
       "      <td>0.03</td>\n",
       "      <td>1070</td>\n",
       "      <td>NaN</td>\n",
       "      <td>14.00</td>\n",
       "      <td>0</td>\n",
       "      <td>295140$1396793</td>\n",
       "    </tr>\n",
       "    <tr>\n",
       "      <th>1</th>\n",
       "      <td>65291</td>\n",
       "      <td>1396586</td>\n",
       "      <td>38</td>\n",
       "      <td>0.05</td>\n",
       "      <td>698</td>\n",
       "      <td>NaN</td>\n",
       "      <td>14.00</td>\n",
       "      <td>0</td>\n",
       "      <td>65291$1396586</td>\n",
       "    </tr>\n",
       "  </tbody>\n",
       "</table>\n",
       "</div>"
      ],
      "text/plain": [
       "   offer_depersanalised  goods_depersanalised  sum_length  attrs+title_score  \\\n",
       "0                295140               1396793          37               0.03   \n",
       "1                 65291               1396586          38               0.05   \n",
       "\n",
       "   offer_price  goods_price  goods_category_id  target              id  \n",
       "0         1070          NaN              14.00       0  295140$1396793  \n",
       "1          698          NaN              14.00       0   65291$1396586  "
      ]
     },
     "metadata": {},
     "output_type": "display_data"
    },
    {
     "data": {
      "text/html": [
       "<div>\n",
       "<style scoped>\n",
       "    .dataframe tbody tr th:only-of-type {\n",
       "        vertical-align: middle;\n",
       "    }\n",
       "\n",
       "    .dataframe tbody tr th {\n",
       "        vertical-align: top;\n",
       "    }\n",
       "\n",
       "    .dataframe thead th {\n",
       "        text-align: right;\n",
       "    }\n",
       "</style>\n",
       "<table border=\"1\" class=\"dataframe\">\n",
       "  <thead>\n",
       "    <tr style=\"text-align: right;\">\n",
       "      <th></th>\n",
       "      <th>offer_depersanalised</th>\n",
       "      <th>goods_depersanalised</th>\n",
       "      <th>sum_length</th>\n",
       "      <th>attrs+title_score</th>\n",
       "      <th>offer_price</th>\n",
       "      <th>goods_price</th>\n",
       "      <th>goods_category_id</th>\n",
       "      <th>target</th>\n",
       "      <th>id</th>\n",
       "    </tr>\n",
       "  </thead>\n",
       "  <tbody>\n",
       "    <tr>\n",
       "      <th>2518439</th>\n",
       "      <td>340842</td>\n",
       "      <td>1163356</td>\n",
       "      <td>7597</td>\n",
       "      <td>0.00</td>\n",
       "      <td>717</td>\n",
       "      <td>313.00</td>\n",
       "      <td>2463684633817211.00</td>\n",
       "      <td>0</td>\n",
       "      <td>340842$1163356</td>\n",
       "    </tr>\n",
       "    <tr>\n",
       "      <th>2518440</th>\n",
       "      <td>189980</td>\n",
       "      <td>1163346</td>\n",
       "      <td>7829</td>\n",
       "      <td>0.00</td>\n",
       "      <td>898</td>\n",
       "      <td>698.00</td>\n",
       "      <td>2463684633817211.00</td>\n",
       "      <td>0</td>\n",
       "      <td>189980$1163346</td>\n",
       "    </tr>\n",
       "  </tbody>\n",
       "</table>\n",
       "</div>"
      ],
      "text/plain": [
       "         offer_depersanalised  goods_depersanalised  sum_length  \\\n",
       "2518439                340842               1163356        7597   \n",
       "2518440                189980               1163346        7829   \n",
       "\n",
       "         attrs+title_score  offer_price  goods_price   goods_category_id  \\\n",
       "2518439               0.00          717       313.00 2463684633817211.00   \n",
       "2518440               0.00          898       698.00 2463684633817211.00   \n",
       "\n",
       "         target              id  \n",
       "2518439       0  340842$1163356  \n",
       "2518440       0  189980$1163346  "
      ]
     },
     "metadata": {},
     "output_type": "display_data"
    },
    {
     "name": "stdout",
     "output_type": "stream",
     "text": [
      "\n",
      "\u001b[1m Пропуски в данных: \u001b[0m \n",
      "\n"
     ]
    },
    {
     "data": {
      "text/plain": [
       "offer_depersanalised         0\n",
       "goods_depersanalised         0\n",
       "sum_length                   0\n",
       "attrs+title_score            0\n",
       "offer_price                  0\n",
       "goods_price             407287\n",
       "goods_category_id          833\n",
       "target                       0\n",
       "id                           0\n",
       "dtype: int64"
      ]
     },
     "metadata": {},
     "output_type": "display_data"
    },
    {
     "name": "stdout",
     "output_type": "stream",
     "text": [
      "\n",
      "\u001b[1m Всего пропущенных значений: \u001b[0m 408120\n",
      "\n",
      "\u001b[1m Количество явных дублей: \u001b[0m 0\n",
      "\n",
      "\u001b[1m Основные статистические характеристики данных: \u001b[0m\n"
     ]
    },
    {
     "data": {
      "text/html": [
       "<div>\n",
       "<style scoped>\n",
       "    .dataframe tbody tr th:only-of-type {\n",
       "        vertical-align: middle;\n",
       "    }\n",
       "\n",
       "    .dataframe tbody tr th {\n",
       "        vertical-align: top;\n",
       "    }\n",
       "\n",
       "    .dataframe thead th {\n",
       "        text-align: right;\n",
       "    }\n",
       "</style>\n",
       "<table border=\"1\" class=\"dataframe\">\n",
       "  <thead>\n",
       "    <tr style=\"text-align: right;\">\n",
       "      <th></th>\n",
       "      <th>offer_depersanalised</th>\n",
       "      <th>goods_depersanalised</th>\n",
       "      <th>sum_length</th>\n",
       "      <th>attrs+title_score</th>\n",
       "      <th>offer_price</th>\n",
       "      <th>goods_price</th>\n",
       "      <th>goods_category_id</th>\n",
       "      <th>target</th>\n",
       "      <th>id</th>\n",
       "    </tr>\n",
       "  </thead>\n",
       "  <tbody>\n",
       "    <tr>\n",
       "      <th>count</th>\n",
       "      <td>2518441.00</td>\n",
       "      <td>2518441.00</td>\n",
       "      <td>2518441.00</td>\n",
       "      <td>2518441.00</td>\n",
       "      <td>2518441.00</td>\n",
       "      <td>2111154.00</td>\n",
       "      <td>2517608.00</td>\n",
       "      <td>2518441.00</td>\n",
       "      <td>2518441</td>\n",
       "    </tr>\n",
       "    <tr>\n",
       "      <th>unique</th>\n",
       "      <td>NaN</td>\n",
       "      <td>NaN</td>\n",
       "      <td>NaN</td>\n",
       "      <td>NaN</td>\n",
       "      <td>NaN</td>\n",
       "      <td>NaN</td>\n",
       "      <td>NaN</td>\n",
       "      <td>NaN</td>\n",
       "      <td>2500000</td>\n",
       "    </tr>\n",
       "    <tr>\n",
       "      <th>top</th>\n",
       "      <td>NaN</td>\n",
       "      <td>NaN</td>\n",
       "      <td>NaN</td>\n",
       "      <td>NaN</td>\n",
       "      <td>NaN</td>\n",
       "      <td>NaN</td>\n",
       "      <td>NaN</td>\n",
       "      <td>NaN</td>\n",
       "      <td>391912$1392831</td>\n",
       "    </tr>\n",
       "    <tr>\n",
       "      <th>freq</th>\n",
       "      <td>NaN</td>\n",
       "      <td>NaN</td>\n",
       "      <td>NaN</td>\n",
       "      <td>NaN</td>\n",
       "      <td>NaN</td>\n",
       "      <td>NaN</td>\n",
       "      <td>NaN</td>\n",
       "      <td>NaN</td>\n",
       "      <td>2</td>\n",
       "    </tr>\n",
       "    <tr>\n",
       "      <th>mean</th>\n",
       "      <td>286190.56</td>\n",
       "      <td>876165.67</td>\n",
       "      <td>587.07</td>\n",
       "      <td>0.13</td>\n",
       "      <td>936296.11</td>\n",
       "      <td>47984.29</td>\n",
       "      <td>4873335911078.39</td>\n",
       "      <td>0.12</td>\n",
       "      <td>NaN</td>\n",
       "    </tr>\n",
       "    <tr>\n",
       "      <th>std</th>\n",
       "      <td>165331.39</td>\n",
       "      <td>512291.30</td>\n",
       "      <td>426.58</td>\n",
       "      <td>0.26</td>\n",
       "      <td>9569628.73</td>\n",
       "      <td>7939301.64</td>\n",
       "      <td>109465145852502.12</td>\n",
       "      <td>0.32</td>\n",
       "      <td>NaN</td>\n",
       "    </tr>\n",
       "    <tr>\n",
       "      <th>min</th>\n",
       "      <td>0.00</td>\n",
       "      <td>0.00</td>\n",
       "      <td>37.00</td>\n",
       "      <td>0.00</td>\n",
       "      <td>101.00</td>\n",
       "      <td>101.00</td>\n",
       "      <td>2.00</td>\n",
       "      <td>0.00</td>\n",
       "      <td>NaN</td>\n",
       "    </tr>\n",
       "    <tr>\n",
       "      <th>25%</th>\n",
       "      <td>142953.00</td>\n",
       "      <td>423465.00</td>\n",
       "      <td>231.00</td>\n",
       "      <td>0.00</td>\n",
       "      <td>990.00</td>\n",
       "      <td>665.00</td>\n",
       "      <td>5.00</td>\n",
       "      <td>0.00</td>\n",
       "      <td>NaN</td>\n",
       "    </tr>\n",
       "    <tr>\n",
       "      <th>50%</th>\n",
       "      <td>286441.00</td>\n",
       "      <td>870836.00</td>\n",
       "      <td>507.00</td>\n",
       "      <td>0.00</td>\n",
       "      <td>2838.00</td>\n",
       "      <td>1780.00</td>\n",
       "      <td>6.00</td>\n",
       "      <td>0.00</td>\n",
       "      <td>NaN</td>\n",
       "    </tr>\n",
       "    <tr>\n",
       "      <th>75%</th>\n",
       "      <td>429243.00</td>\n",
       "      <td>1307631.00</td>\n",
       "      <td>807.00</td>\n",
       "      <td>0.05</td>\n",
       "      <td>9300.00</td>\n",
       "      <td>6516.00</td>\n",
       "      <td>14.00</td>\n",
       "      <td>0.00</td>\n",
       "      <td>NaN</td>\n",
       "    </tr>\n",
       "    <tr>\n",
       "      <th>max</th>\n",
       "      <td>572766.00</td>\n",
       "      <td>1760567.00</td>\n",
       "      <td>7829.00</td>\n",
       "      <td>1.00</td>\n",
       "      <td>100000100.00</td>\n",
       "      <td>2106021160.00</td>\n",
       "      <td>2463684633817211.00</td>\n",
       "      <td>1.00</td>\n",
       "      <td>NaN</td>\n",
       "    </tr>\n",
       "  </tbody>\n",
       "</table>\n",
       "</div>"
      ],
      "text/plain": [
       "        offer_depersanalised  goods_depersanalised  sum_length  \\\n",
       "count             2518441.00            2518441.00  2518441.00   \n",
       "unique                   NaN                   NaN         NaN   \n",
       "top                      NaN                   NaN         NaN   \n",
       "freq                     NaN                   NaN         NaN   \n",
       "mean               286190.56             876165.67      587.07   \n",
       "std                165331.39             512291.30      426.58   \n",
       "min                     0.00                  0.00       37.00   \n",
       "25%                142953.00             423465.00      231.00   \n",
       "50%                286441.00             870836.00      507.00   \n",
       "75%                429243.00            1307631.00      807.00   \n",
       "max                572766.00            1760567.00     7829.00   \n",
       "\n",
       "        attrs+title_score  offer_price   goods_price   goods_category_id  \\\n",
       "count          2518441.00   2518441.00    2111154.00          2517608.00   \n",
       "unique                NaN          NaN           NaN                 NaN   \n",
       "top                   NaN          NaN           NaN                 NaN   \n",
       "freq                  NaN          NaN           NaN                 NaN   \n",
       "mean                 0.13    936296.11      47984.29    4873335911078.39   \n",
       "std                  0.26   9569628.73    7939301.64  109465145852502.12   \n",
       "min                  0.00       101.00        101.00                2.00   \n",
       "25%                  0.00       990.00        665.00                5.00   \n",
       "50%                  0.00      2838.00       1780.00                6.00   \n",
       "75%                  0.05      9300.00       6516.00               14.00   \n",
       "max                  1.00 100000100.00 2106021160.00 2463684633817211.00   \n",
       "\n",
       "           target              id  \n",
       "count  2518441.00         2518441  \n",
       "unique        NaN         2500000  \n",
       "top           NaN  391912$1392831  \n",
       "freq          NaN               2  \n",
       "mean         0.12             NaN  \n",
       "std          0.32             NaN  \n",
       "min          0.00             NaN  \n",
       "25%          0.00             NaN  \n",
       "50%          0.00             NaN  \n",
       "75%          0.00             NaN  \n",
       "max          1.00             NaN  "
      ]
     },
     "metadata": {},
     "output_type": "display_data"
    }
   ],
   "source": [
    "review(train)"
   ]
  },
  {
   "cell_type": "markdown",
   "id": "d3c171d1-d55c-4a25-a500-a28aaba37be1",
   "metadata": {},
   "source": [
    "Максимальные значения обоих параметров(offer_price и goods_price) значительно превышают 75-перцентиль, что указывает на наличие **выбросов** в данных, из-за чего стандартное отклонение **не информативно**, сами данные могут быть искажены. **Средние** значения **цены предложения** (offer_price) и **цены товара** (goods_price) значительно **различаются**."
   ]
  },
  {
   "cell_type": "markdown",
   "id": "1a27bf87-85d0-4e3b-9da9-77de092598d0",
   "metadata": {},
   "source": [
    "## Тестовый набор данных"
   ]
  },
  {
   "cell_type": "code",
   "execution_count": 9,
   "id": "d95dc9a8",
   "metadata": {},
   "outputs": [
    {
     "name": "stdout",
     "output_type": "stream",
     "text": [
      "\u001b[1m \n",
      "Общая информация: \n",
      "\u001b[0m \n",
      "\n",
      "<class 'pandas.core.frame.DataFrame'>\n",
      "RangeIndex: 363835 entries, 0 to 363834\n",
      "Data columns (total 8 columns):\n",
      " #   Column                Non-Null Count   Dtype  \n",
      "---  ------                --------------   -----  \n",
      " 0   offer_depersanalised  363835 non-null  int64  \n",
      " 1   goods_depersanalised  363835 non-null  int64  \n",
      " 2   sum_length            363835 non-null  int64  \n",
      " 3   attrs+title_score     363835 non-null  float64\n",
      " 4   offer_price           363835 non-null  int64  \n",
      " 5   goods_price           304864 non-null  float64\n",
      " 6   goods_category_id     363704 non-null  float64\n",
      " 7   id                    363835 non-null  object \n",
      "dtypes: float64(3), int64(4), object(1)\n",
      "memory usage: 22.2+ MB\n"
     ]
    },
    {
     "data": {
      "text/html": [
       "<div>\n",
       "<style scoped>\n",
       "    .dataframe tbody tr th:only-of-type {\n",
       "        vertical-align: middle;\n",
       "    }\n",
       "\n",
       "    .dataframe tbody tr th {\n",
       "        vertical-align: top;\n",
       "    }\n",
       "\n",
       "    .dataframe thead th {\n",
       "        text-align: right;\n",
       "    }\n",
       "</style>\n",
       "<table border=\"1\" class=\"dataframe\">\n",
       "  <thead>\n",
       "    <tr style=\"text-align: right;\">\n",
       "      <th></th>\n",
       "      <th>offer_depersanalised</th>\n",
       "      <th>goods_depersanalised</th>\n",
       "      <th>sum_length</th>\n",
       "      <th>attrs+title_score</th>\n",
       "      <th>offer_price</th>\n",
       "      <th>goods_price</th>\n",
       "      <th>goods_category_id</th>\n",
       "      <th>id</th>\n",
       "    </tr>\n",
       "  </thead>\n",
       "  <tbody>\n",
       "    <tr>\n",
       "      <th>0</th>\n",
       "      <td>64819</td>\n",
       "      <td>1396468</td>\n",
       "      <td>38</td>\n",
       "      <td>0.05</td>\n",
       "      <td>368</td>\n",
       "      <td>NaN</td>\n",
       "      <td>14.00</td>\n",
       "      <td>64819$1396468</td>\n",
       "    </tr>\n",
       "    <tr>\n",
       "      <th>1</th>\n",
       "      <td>64819</td>\n",
       "      <td>1396235</td>\n",
       "      <td>38</td>\n",
       "      <td>0.05</td>\n",
       "      <td>368</td>\n",
       "      <td>NaN</td>\n",
       "      <td>14.00</td>\n",
       "      <td>64819$1396235</td>\n",
       "    </tr>\n",
       "  </tbody>\n",
       "</table>\n",
       "</div>"
      ],
      "text/plain": [
       "   offer_depersanalised  goods_depersanalised  sum_length  attrs+title_score  \\\n",
       "0                 64819               1396468          38               0.05   \n",
       "1                 64819               1396235          38               0.05   \n",
       "\n",
       "   offer_price  goods_price  goods_category_id             id  \n",
       "0          368          NaN              14.00  64819$1396468  \n",
       "1          368          NaN              14.00  64819$1396235  "
      ]
     },
     "metadata": {},
     "output_type": "display_data"
    },
    {
     "data": {
      "text/html": [
       "<div>\n",
       "<style scoped>\n",
       "    .dataframe tbody tr th:only-of-type {\n",
       "        vertical-align: middle;\n",
       "    }\n",
       "\n",
       "    .dataframe tbody tr th {\n",
       "        vertical-align: top;\n",
       "    }\n",
       "\n",
       "    .dataframe thead th {\n",
       "        text-align: right;\n",
       "    }\n",
       "</style>\n",
       "<table border=\"1\" class=\"dataframe\">\n",
       "  <thead>\n",
       "    <tr style=\"text-align: right;\">\n",
       "      <th></th>\n",
       "      <th>offer_depersanalised</th>\n",
       "      <th>goods_depersanalised</th>\n",
       "      <th>sum_length</th>\n",
       "      <th>attrs+title_score</th>\n",
       "      <th>offer_price</th>\n",
       "      <th>goods_price</th>\n",
       "      <th>goods_category_id</th>\n",
       "      <th>id</th>\n",
       "    </tr>\n",
       "  </thead>\n",
       "  <tbody>\n",
       "    <tr>\n",
       "      <th>363833</th>\n",
       "      <td>24514</td>\n",
       "      <td>130142</td>\n",
       "      <td>5760</td>\n",
       "      <td>0.00</td>\n",
       "      <td>2000</td>\n",
       "      <td>259.00</td>\n",
       "      <td>2463684633817211.00</td>\n",
       "      <td>24514$130142</td>\n",
       "    </tr>\n",
       "    <tr>\n",
       "      <th>363834</th>\n",
       "      <td>63490</td>\n",
       "      <td>1146634</td>\n",
       "      <td>6175</td>\n",
       "      <td>0.00</td>\n",
       "      <td>915</td>\n",
       "      <td>1304.00</td>\n",
       "      <td>2463684633817211.00</td>\n",
       "      <td>63490$1146634</td>\n",
       "    </tr>\n",
       "  </tbody>\n",
       "</table>\n",
       "</div>"
      ],
      "text/plain": [
       "        offer_depersanalised  goods_depersanalised  sum_length  \\\n",
       "363833                 24514                130142        5760   \n",
       "363834                 63490               1146634        6175   \n",
       "\n",
       "        attrs+title_score  offer_price  goods_price   goods_category_id  \\\n",
       "363833               0.00         2000       259.00 2463684633817211.00   \n",
       "363834               0.00          915      1304.00 2463684633817211.00   \n",
       "\n",
       "                   id  \n",
       "363833   24514$130142  \n",
       "363834  63490$1146634  "
      ]
     },
     "metadata": {},
     "output_type": "display_data"
    },
    {
     "name": "stdout",
     "output_type": "stream",
     "text": [
      "\n",
      "\u001b[1m Пропуски в данных: \u001b[0m \n",
      "\n"
     ]
    },
    {
     "data": {
      "text/plain": [
       "offer_depersanalised        0\n",
       "goods_depersanalised        0\n",
       "sum_length                  0\n",
       "attrs+title_score           0\n",
       "offer_price                 0\n",
       "goods_price             58971\n",
       "goods_category_id         131\n",
       "id                          0\n",
       "dtype: int64"
      ]
     },
     "metadata": {},
     "output_type": "display_data"
    },
    {
     "name": "stdout",
     "output_type": "stream",
     "text": [
      "\n",
      "\u001b[1m Всего пропущенных значений: \u001b[0m 59102\n",
      "\n",
      "\u001b[1m Количество явных дублей: \u001b[0m 0\n",
      "\n",
      "\u001b[1m Основные статистические характеристики данных: \u001b[0m\n"
     ]
    },
    {
     "data": {
      "text/html": [
       "<div>\n",
       "<style scoped>\n",
       "    .dataframe tbody tr th:only-of-type {\n",
       "        vertical-align: middle;\n",
       "    }\n",
       "\n",
       "    .dataframe tbody tr th {\n",
       "        vertical-align: top;\n",
       "    }\n",
       "\n",
       "    .dataframe thead th {\n",
       "        text-align: right;\n",
       "    }\n",
       "</style>\n",
       "<table border=\"1\" class=\"dataframe\">\n",
       "  <thead>\n",
       "    <tr style=\"text-align: right;\">\n",
       "      <th></th>\n",
       "      <th>offer_depersanalised</th>\n",
       "      <th>goods_depersanalised</th>\n",
       "      <th>sum_length</th>\n",
       "      <th>attrs+title_score</th>\n",
       "      <th>offer_price</th>\n",
       "      <th>goods_price</th>\n",
       "      <th>goods_category_id</th>\n",
       "      <th>id</th>\n",
       "    </tr>\n",
       "  </thead>\n",
       "  <tbody>\n",
       "    <tr>\n",
       "      <th>count</th>\n",
       "      <td>363835.00</td>\n",
       "      <td>363835.00</td>\n",
       "      <td>363835.00</td>\n",
       "      <td>363835.00</td>\n",
       "      <td>363835.00</td>\n",
       "      <td>304864.00</td>\n",
       "      <td>363704.00</td>\n",
       "      <td>363835</td>\n",
       "    </tr>\n",
       "    <tr>\n",
       "      <th>unique</th>\n",
       "      <td>NaN</td>\n",
       "      <td>NaN</td>\n",
       "      <td>NaN</td>\n",
       "      <td>NaN</td>\n",
       "      <td>NaN</td>\n",
       "      <td>NaN</td>\n",
       "      <td>NaN</td>\n",
       "      <td>363835</td>\n",
       "    </tr>\n",
       "    <tr>\n",
       "      <th>top</th>\n",
       "      <td>NaN</td>\n",
       "      <td>NaN</td>\n",
       "      <td>NaN</td>\n",
       "      <td>NaN</td>\n",
       "      <td>NaN</td>\n",
       "      <td>NaN</td>\n",
       "      <td>NaN</td>\n",
       "      <td>411013$802722</td>\n",
       "    </tr>\n",
       "    <tr>\n",
       "      <th>freq</th>\n",
       "      <td>NaN</td>\n",
       "      <td>NaN</td>\n",
       "      <td>NaN</td>\n",
       "      <td>NaN</td>\n",
       "      <td>NaN</td>\n",
       "      <td>NaN</td>\n",
       "      <td>NaN</td>\n",
       "      <td>1</td>\n",
       "    </tr>\n",
       "    <tr>\n",
       "      <th>mean</th>\n",
       "      <td>286850.60</td>\n",
       "      <td>877114.67</td>\n",
       "      <td>583.42</td>\n",
       "      <td>0.13</td>\n",
       "      <td>958357.69</td>\n",
       "      <td>30895.12</td>\n",
       "      <td>5100726220411.27</td>\n",
       "      <td>NaN</td>\n",
       "    </tr>\n",
       "    <tr>\n",
       "      <th>std</th>\n",
       "      <td>165256.36</td>\n",
       "      <td>511892.47</td>\n",
       "      <td>423.87</td>\n",
       "      <td>0.26</td>\n",
       "      <td>9683426.36</td>\n",
       "      <td>5866152.16</td>\n",
       "      <td>111984810946494.66</td>\n",
       "      <td>NaN</td>\n",
       "    </tr>\n",
       "    <tr>\n",
       "      <th>min</th>\n",
       "      <td>1.00</td>\n",
       "      <td>18.00</td>\n",
       "      <td>38.00</td>\n",
       "      <td>0.00</td>\n",
       "      <td>101.00</td>\n",
       "      <td>101.00</td>\n",
       "      <td>2.00</td>\n",
       "      <td>NaN</td>\n",
       "    </tr>\n",
       "    <tr>\n",
       "      <th>25%</th>\n",
       "      <td>144092.00</td>\n",
       "      <td>424936.50</td>\n",
       "      <td>231.00</td>\n",
       "      <td>0.00</td>\n",
       "      <td>982.00</td>\n",
       "      <td>663.00</td>\n",
       "      <td>5.00</td>\n",
       "      <td>NaN</td>\n",
       "    </tr>\n",
       "    <tr>\n",
       "      <th>50%</th>\n",
       "      <td>286456.00</td>\n",
       "      <td>870778.00</td>\n",
       "      <td>504.00</td>\n",
       "      <td>0.00</td>\n",
       "      <td>2832.00</td>\n",
       "      <td>1770.00</td>\n",
       "      <td>6.00</td>\n",
       "      <td>NaN</td>\n",
       "    </tr>\n",
       "    <tr>\n",
       "      <th>75%</th>\n",
       "      <td>429787.00</td>\n",
       "      <td>1307888.50</td>\n",
       "      <td>800.00</td>\n",
       "      <td>0.05</td>\n",
       "      <td>9321.00</td>\n",
       "      <td>6550.00</td>\n",
       "      <td>14.00</td>\n",
       "      <td>NaN</td>\n",
       "    </tr>\n",
       "    <tr>\n",
       "      <th>max</th>\n",
       "      <td>572765.00</td>\n",
       "      <td>1760562.00</td>\n",
       "      <td>6175.00</td>\n",
       "      <td>1.00</td>\n",
       "      <td>100000100.00</td>\n",
       "      <td>1638016480.00</td>\n",
       "      <td>2463684633817211.00</td>\n",
       "      <td>NaN</td>\n",
       "    </tr>\n",
       "  </tbody>\n",
       "</table>\n",
       "</div>"
      ],
      "text/plain": [
       "        offer_depersanalised  goods_depersanalised  sum_length  \\\n",
       "count              363835.00             363835.00   363835.00   \n",
       "unique                   NaN                   NaN         NaN   \n",
       "top                      NaN                   NaN         NaN   \n",
       "freq                     NaN                   NaN         NaN   \n",
       "mean               286850.60             877114.67      583.42   \n",
       "std                165256.36             511892.47      423.87   \n",
       "min                     1.00                 18.00       38.00   \n",
       "25%                144092.00             424936.50      231.00   \n",
       "50%                286456.00             870778.00      504.00   \n",
       "75%                429787.00            1307888.50      800.00   \n",
       "max                572765.00            1760562.00     6175.00   \n",
       "\n",
       "        attrs+title_score  offer_price   goods_price   goods_category_id  \\\n",
       "count           363835.00    363835.00     304864.00           363704.00   \n",
       "unique                NaN          NaN           NaN                 NaN   \n",
       "top                   NaN          NaN           NaN                 NaN   \n",
       "freq                  NaN          NaN           NaN                 NaN   \n",
       "mean                 0.13    958357.69      30895.12    5100726220411.27   \n",
       "std                  0.26   9683426.36    5866152.16  111984810946494.66   \n",
       "min                  0.00       101.00        101.00                2.00   \n",
       "25%                  0.00       982.00        663.00                5.00   \n",
       "50%                  0.00      2832.00       1770.00                6.00   \n",
       "75%                  0.05      9321.00       6550.00               14.00   \n",
       "max                  1.00 100000100.00 1638016480.00 2463684633817211.00   \n",
       "\n",
       "                   id  \n",
       "count          363835  \n",
       "unique         363835  \n",
       "top     411013$802722  \n",
       "freq                1  \n",
       "mean              NaN  \n",
       "std               NaN  \n",
       "min               NaN  \n",
       "25%               NaN  \n",
       "50%               NaN  \n",
       "75%               NaN  \n",
       "max               NaN  "
      ]
     },
     "metadata": {},
     "output_type": "display_data"
    }
   ],
   "source": [
    "review(test)"
   ]
  },
  {
   "cell_type": "markdown",
   "id": "c0a323c9-717b-4357-ba4b-bffa35215186",
   "metadata": {},
   "source": [
    "Из предоставленных данных видно, что **цена** предложений значительно **выше**, чем цены самих товаров.\n",
    "**Чаще** всего встречается товар категории **14**. Суммарная длина пары названий и атрибутов в символах в среднем достиграет **583** со стандартным отклонением **424**\n",
    "\n",
    "В данных так же есть **аномалии**"
   ]
  },
  {
   "cell_type": "markdown",
   "id": "aa1d3a7d-ad6f-4e19-b0e6-1bbaff67a9a2",
   "metadata": {},
   "source": [
    "## Sample submission"
   ]
  },
  {
   "cell_type": "code",
   "execution_count": 10,
   "id": "c538edcd",
   "metadata": {},
   "outputs": [
    {
     "name": "stdout",
     "output_type": "stream",
     "text": [
      "\u001b[1m \n",
      "Общая информация: \n",
      "\u001b[0m \n",
      "\n",
      "<class 'pandas.core.frame.DataFrame'>\n",
      "RangeIndex: 363835 entries, 0 to 363834\n",
      "Data columns (total 2 columns):\n",
      " #   Column  Non-Null Count   Dtype \n",
      "---  ------  --------------   ----- \n",
      " 0   id      363835 non-null  object\n",
      " 1   target  363835 non-null  int64 \n",
      "dtypes: int64(1), object(1)\n",
      "memory usage: 5.6+ MB\n"
     ]
    },
    {
     "data": {
      "text/html": [
       "<div>\n",
       "<style scoped>\n",
       "    .dataframe tbody tr th:only-of-type {\n",
       "        vertical-align: middle;\n",
       "    }\n",
       "\n",
       "    .dataframe tbody tr th {\n",
       "        vertical-align: top;\n",
       "    }\n",
       "\n",
       "    .dataframe thead th {\n",
       "        text-align: right;\n",
       "    }\n",
       "</style>\n",
       "<table border=\"1\" class=\"dataframe\">\n",
       "  <thead>\n",
       "    <tr style=\"text-align: right;\">\n",
       "      <th></th>\n",
       "      <th>id</th>\n",
       "      <th>target</th>\n",
       "    </tr>\n",
       "  </thead>\n",
       "  <tbody>\n",
       "    <tr>\n",
       "      <th>0</th>\n",
       "      <td>64819$1396468</td>\n",
       "      <td>1</td>\n",
       "    </tr>\n",
       "    <tr>\n",
       "      <th>1</th>\n",
       "      <td>64819$1396235</td>\n",
       "      <td>1</td>\n",
       "    </tr>\n",
       "  </tbody>\n",
       "</table>\n",
       "</div>"
      ],
      "text/plain": [
       "              id  target\n",
       "0  64819$1396468       1\n",
       "1  64819$1396235       1"
      ]
     },
     "metadata": {},
     "output_type": "display_data"
    },
    {
     "data": {
      "text/html": [
       "<div>\n",
       "<style scoped>\n",
       "    .dataframe tbody tr th:only-of-type {\n",
       "        vertical-align: middle;\n",
       "    }\n",
       "\n",
       "    .dataframe tbody tr th {\n",
       "        vertical-align: top;\n",
       "    }\n",
       "\n",
       "    .dataframe thead th {\n",
       "        text-align: right;\n",
       "    }\n",
       "</style>\n",
       "<table border=\"1\" class=\"dataframe\">\n",
       "  <thead>\n",
       "    <tr style=\"text-align: right;\">\n",
       "      <th></th>\n",
       "      <th>id</th>\n",
       "      <th>target</th>\n",
       "    </tr>\n",
       "  </thead>\n",
       "  <tbody>\n",
       "    <tr>\n",
       "      <th>363833</th>\n",
       "      <td>24514$130142</td>\n",
       "      <td>0</td>\n",
       "    </tr>\n",
       "    <tr>\n",
       "      <th>363834</th>\n",
       "      <td>63490$1146634</td>\n",
       "      <td>0</td>\n",
       "    </tr>\n",
       "  </tbody>\n",
       "</table>\n",
       "</div>"
      ],
      "text/plain": [
       "                   id  target\n",
       "363833   24514$130142       0\n",
       "363834  63490$1146634       0"
      ]
     },
     "metadata": {},
     "output_type": "display_data"
    },
    {
     "name": "stdout",
     "output_type": "stream",
     "text": [
      "\n",
      "\u001b[1m Пропуски в данных: \u001b[0m \n",
      "\n"
     ]
    },
    {
     "data": {
      "text/plain": [
       "id        0\n",
       "target    0\n",
       "dtype: int64"
      ]
     },
     "metadata": {},
     "output_type": "display_data"
    },
    {
     "name": "stdout",
     "output_type": "stream",
     "text": [
      "\n",
      "\u001b[1m Всего пропущенных значений: \u001b[0m 0\n",
      "\n",
      "\u001b[1m Количество явных дублей: \u001b[0m 0\n",
      "\n",
      "\u001b[1m Основные статистические характеристики данных: \u001b[0m\n"
     ]
    },
    {
     "data": {
      "text/html": [
       "<div>\n",
       "<style scoped>\n",
       "    .dataframe tbody tr th:only-of-type {\n",
       "        vertical-align: middle;\n",
       "    }\n",
       "\n",
       "    .dataframe tbody tr th {\n",
       "        vertical-align: top;\n",
       "    }\n",
       "\n",
       "    .dataframe thead th {\n",
       "        text-align: right;\n",
       "    }\n",
       "</style>\n",
       "<table border=\"1\" class=\"dataframe\">\n",
       "  <thead>\n",
       "    <tr style=\"text-align: right;\">\n",
       "      <th></th>\n",
       "      <th>id</th>\n",
       "      <th>target</th>\n",
       "    </tr>\n",
       "  </thead>\n",
       "  <tbody>\n",
       "    <tr>\n",
       "      <th>count</th>\n",
       "      <td>363835</td>\n",
       "      <td>363835.00</td>\n",
       "    </tr>\n",
       "    <tr>\n",
       "      <th>unique</th>\n",
       "      <td>363835</td>\n",
       "      <td>NaN</td>\n",
       "    </tr>\n",
       "    <tr>\n",
       "      <th>top</th>\n",
       "      <td>411013$802722</td>\n",
       "      <td>NaN</td>\n",
       "    </tr>\n",
       "    <tr>\n",
       "      <th>freq</th>\n",
       "      <td>1</td>\n",
       "      <td>NaN</td>\n",
       "    </tr>\n",
       "    <tr>\n",
       "      <th>mean</th>\n",
       "      <td>NaN</td>\n",
       "      <td>0.50</td>\n",
       "    </tr>\n",
       "    <tr>\n",
       "      <th>std</th>\n",
       "      <td>NaN</td>\n",
       "      <td>0.50</td>\n",
       "    </tr>\n",
       "    <tr>\n",
       "      <th>min</th>\n",
       "      <td>NaN</td>\n",
       "      <td>0.00</td>\n",
       "    </tr>\n",
       "    <tr>\n",
       "      <th>25%</th>\n",
       "      <td>NaN</td>\n",
       "      <td>0.00</td>\n",
       "    </tr>\n",
       "    <tr>\n",
       "      <th>50%</th>\n",
       "      <td>NaN</td>\n",
       "      <td>0.00</td>\n",
       "    </tr>\n",
       "    <tr>\n",
       "      <th>75%</th>\n",
       "      <td>NaN</td>\n",
       "      <td>1.00</td>\n",
       "    </tr>\n",
       "    <tr>\n",
       "      <th>max</th>\n",
       "      <td>NaN</td>\n",
       "      <td>1.00</td>\n",
       "    </tr>\n",
       "  </tbody>\n",
       "</table>\n",
       "</div>"
      ],
      "text/plain": [
       "                   id    target\n",
       "count          363835 363835.00\n",
       "unique         363835       NaN\n",
       "top     411013$802722       NaN\n",
       "freq                1       NaN\n",
       "mean              NaN      0.50\n",
       "std               NaN      0.50\n",
       "min               NaN      0.00\n",
       "25%               NaN      0.00\n",
       "50%               NaN      0.00\n",
       "75%               NaN      1.00\n",
       "max               NaN      1.00"
      ]
     },
     "metadata": {},
     "output_type": "display_data"
    }
   ],
   "source": [
    "review(sample_submission)"
   ]
  },
  {
   "cell_type": "markdown",
   "id": "ea872829-4279-42c6-b1c7-af911d7e6c34",
   "metadata": {},
   "source": [
    "## Подсчет уникальных значений"
   ]
  },
  {
   "cell_type": "code",
   "execution_count": 11,
   "id": "9a1fb29f-2c2b-4de9-8c42-f6a207364959",
   "metadata": {},
   "outputs": [
    {
     "name": "stdout",
     "output_type": "stream",
     "text": [
      "\n",
      "\u001b[1m Значения признака: \u001b[0m offer_depersanalised\n",
      "399586    10\n",
      "24061     10\n",
      "417588    10\n",
      "503562    10\n",
      "518       10\n",
      "          ..\n",
      "10235      5\n",
      "8188       5\n",
      "6141       5\n",
      "4094       5\n",
      "2047       5\n",
      "Name: offer_depersanalised, Length: 500000, dtype: int64\n",
      "\n",
      "\u001b[1m Значения признака: \u001b[0m goods_depersanalised\n",
      "857565    7179\n",
      "857566    6909\n",
      "766583    3282\n",
      "857616    3204\n",
      "857619    2835\n",
      "          ... \n",
      "79833        1\n",
      "75739        1\n",
      "108491       1\n",
      "106444       1\n",
      "104397       1\n",
      "Name: goods_depersanalised, Length: 1592607, dtype: int64\n",
      "\n",
      "\u001b[1m Значения признака: \u001b[0m sum_length\n",
      "209     5534\n",
      "211     5465\n",
      "220     5437\n",
      "212     5402\n",
      "214     5382\n",
      "        ... \n",
      "3466       1\n",
      "3471       1\n",
      "4035       1\n",
      "5757       1\n",
      "3724       1\n",
      "Name: sum_length, Length: 3208, dtype: int64\n",
      "\n",
      "\u001b[1m Значения признака: \u001b[0m attrs+title_score\n",
      "0.00    74779\n",
      "0.00    74683\n",
      "0.00    73644\n",
      "0.00    73345\n",
      "0.00    68876\n",
      "        ...  \n",
      "1.00       17\n",
      "1.00        8\n",
      "1.00        4\n",
      "0.00        4\n",
      "0.00        1\n",
      "Name: attrs+title_score, Length: 5306, dtype: int64\n",
      "\n",
      "\u001b[1m Значения признака: \u001b[0m offer_price\n",
      "100000100    23283\n",
      "299          14723\n",
      "990           7177\n",
      "101           6605\n",
      "200           5811\n",
      "             ...  \n",
      "57317            5\n",
      "29849            5\n",
      "23708            5\n",
      "19614            5\n",
      "107683           5\n",
      "Name: offer_price, Length: 48006, dtype: int64\n",
      "\n",
      "\u001b[1m Значения признака: \u001b[0m goods_price\n",
      "688.00       12416\n",
      "655.00        9955\n",
      "399.00        9073\n",
      "2511.00       5411\n",
      "1099.00       5315\n",
      "             ...  \n",
      "109451.00        1\n",
      "32084.00         1\n",
      "52087.00         1\n",
      "39737.00         1\n",
      "92276.00         1\n",
      "Name: goods_price, Length: 60418, dtype: int64\n",
      "\n",
      "\u001b[1m Значения признака: \u001b[0m goods_category_id\n",
      "5.00                   460420\n",
      "6.00                   312857\n",
      "2.00                   249113\n",
      "3.00                   195435\n",
      "14.00                  154753\n",
      "8.00                   153579\n",
      "7.00                   150662\n",
      "83.00                  142425\n",
      "11.00                  104619\n",
      "82.00                  103778\n",
      "4.00                    96313\n",
      "19.00                   67793\n",
      "21.00                   67608\n",
      "81.00                   64705\n",
      "17.00                   55106\n",
      "9.00                    50027\n",
      "13.00                   36950\n",
      "69.00                   29622\n",
      "18.00                   16863\n",
      "2463684633817211.00      4980\n",
      "Name: goods_category_id, dtype: int64\n",
      "\n",
      "\u001b[1m Значения признака: \u001b[0m target\n",
      "0    2223798\n",
      "1     294643\n",
      "Name: target, dtype: int64\n",
      "\n",
      "\u001b[1m Значения признака: \u001b[0m id\n",
      "391912$1392831    2\n",
      "389157$145820     2\n",
      "57132$1705653     2\n",
      "193072$1058467    2\n",
      "16555$966485      2\n",
      "                 ..\n",
      "470087$283169     1\n",
      "264971$577902     1\n",
      "326419$927199     1\n",
      "206589$1227788    1\n",
      "397438$1383969    1\n",
      "Name: id, Length: 2500000, dtype: int64\n"
     ]
    }
   ],
   "source": [
    "for i in train.columns:\n",
    "    print('\\n\\033[1m Значения признака: \\033[0m', i)\n",
    "    print(train[i].value_counts())"
   ]
  },
  {
   "cell_type": "markdown",
   "id": "14f62460-d615-448e-9055-85f99892281a",
   "metadata": {},
   "source": [
    "**График распределения целевого признака**"
   ]
  },
  {
   "cell_type": "code",
   "execution_count": 12,
   "id": "583a0fe9",
   "metadata": {},
   "outputs": [
    {
     "data": {
      "image/png": "[encoded data removed]",
      "text/plain": [
       "<Figure size 432x288 with 1 Axes>"
      ]
     },
     "metadata": {
      "needs_background": "light"
     },
     "output_type": "display_data"
    }
   ],
   "source": [
    "plt.rc('axes', titlesize=15)  \n",
    "\n",
    "sns.histplot(train['target'], bins=(2), alpha = 0.5, \n",
    "             edgecolor=(1, 1, 1, .4), label='0 - не матч, 1 - матч')\n",
    "    \n",
    "plt.legend(loc='upper left')\n",
    "plt.ylabel('Количество')\n",
    "plt.title('Mетка класса')\n",
    "plt.show()"
   ]
  },
  {
   "cell_type": "markdown",
   "id": "86726c73-6ef2-4470-a604-6ef8b821fe19",
   "metadata": {},
   "source": [
    "Наблюдается сильный **дисбаланс** с перекосом в сторону нулевой метки. Это нужно будет учитывать при обучении моделей "
   ]
  },
  {
   "cell_type": "markdown",
   "id": "b674aefe-a588-49b7-afcb-80367135fc40",
   "metadata": {},
   "source": [
    "Идентификатор пары **offer_depersanalised + $ + goods_depersanalised** можно **удалить** из тренировочной выборки, не понадобится для обучения"
   ]
  },
  {
   "cell_type": "code",
   "execution_count": 13,
   "id": "4bbecf14",
   "metadata": {},
   "outputs": [],
   "source": [
    "train.drop(columns='id', inplace=True)"
   ]
  },
  {
   "cell_type": "markdown",
   "id": "8bdeec5c",
   "metadata": {
    "id": "8bdeec5c"
   },
   "source": [
    "# Предобработка данных"
   ]
  },
  {
   "cell_type": "markdown",
   "id": "37959dc8-3af5-4f38-9d07-2490b974c627",
   "metadata": {},
   "source": [
    "## Функции для анализа данных"
   ]
  },
  {
   "cell_type": "code",
   "execution_count": 14,
   "id": "9cf55103-6d60-491c-a7b1-6d38b386aff4",
   "metadata": {},
   "outputs": [],
   "source": [
    "# Пропуски и корреляция между ними\n",
    "def missing_data(data):\n",
    "    fig, axes = plt.subplots(2, 1, figsize=(10, 8))\n",
    "    \n",
    "    msno.matrix(data, ax=axes[0], sparkline=False)\n",
    "    axes[0].set_title('The matrix of zero values', fontsize=16)\n",
    "    \n",
    "    msno.heatmap(data, ax=axes[1])\n",
    "    axes[1].set_title('Correlation of zero values', fontsize=16)\n",
    "    \n",
    "    plt.tight_layout()\n",
    "    plt.show()"
   ]
  },
  {
   "cell_type": "code",
   "execution_count": 15,
   "id": "4f549efb-95fe-4f12-9b66-41d136e496bf",
   "metadata": {},
   "outputs": [],
   "source": [
    "# Ящик с усами \n",
    "def boxplot_features(data):\n",
    "    for column in data.columns:\n",
    "        plt.figure(figsize=(12, 2))\n",
    "        sns.boxplot(data[column], orient=\"h\", color='skyblue')\n",
    "        plt.title(column, fontsize=16)\n",
    "        plt.show()"
   ]
  },
  {
   "cell_type": "markdown",
   "id": "955fd496-2ea1-49dd-a9cc-8242958ff0ac",
   "metadata": {},
   "source": [
    "## Пропуски"
   ]
  },
  {
   "cell_type": "markdown",
   "id": "8df0a34b-bd9f-4e6a-a4cd-be57c530c385",
   "metadata": {},
   "source": [
    "#### train"
   ]
  },
  {
   "cell_type": "code",
   "execution_count": 16,
   "id": "d5e87767-c127-411a-9789-29b7da7777a5",
   "metadata": {},
   "outputs": [
    {
     "data": {
      "image/png": "[encoded data removed]",
      "text/plain": [
       "<Figure size 720x576 with 3 Axes>"
      ]
     },
     "metadata": {
      "needs_background": "light"
     },
     "output_type": "display_data"
    }
   ],
   "source": [
    "missing_data(train)"
   ]
  },
  {
   "cell_type": "markdown",
   "id": "09d7e833-ca36-4e9e-921b-06b07be0661a",
   "metadata": {},
   "source": [
    "#### test"
   ]
  },
  {
   "cell_type": "code",
   "execution_count": 17,
   "id": "922e044e-050c-4bcb-9a4d-7c21fe9503b1",
   "metadata": {},
   "outputs": [
    {
     "data": {
      "image/png": "[encoded data removed]",
      "text/plain": [
       "<Figure size 720x576 with 3 Axes>"
      ]
     },
     "metadata": {
      "needs_background": "light"
     },
     "output_type": "display_data"
    }
   ],
   "source": [
    "missing_data(test)"
   ]
  },
  {
   "cell_type": "markdown",
   "id": "9bfa5a88-2a91-47cc-a1ec-8a6577d1244f",
   "metadata": {},
   "source": [
    "В данных нет корреляции между пропусками, в обоих случаях"
   ]
  },
  {
   "cell_type": "markdown",
   "id": "a58f4289",
   "metadata": {
    "id": "a58f4289"
   },
   "source": [
    "Поставим заглушку в `goods_category_id`"
   ]
  },
  {
   "cell_type": "code",
   "execution_count": 18,
   "id": "89fa3c70",
   "metadata": {
    "id": "89fa3c70"
   },
   "outputs": [],
   "source": [
    "train['goods_category_id'] = train['goods_category_id'].fillna(-1)\n",
    "test['goods_category_id'] = test['goods_category_id'].fillna(-1)"
   ]
  },
  {
   "cell_type": "markdown",
   "id": "4b360b3d",
   "metadata": {
    "id": "4b360b3d"
   },
   "source": [
    "Заполним пропуски в `goods_price` медианой по столбцу `goods_category_id`"
   ]
  },
  {
   "cell_type": "code",
   "execution_count": 19,
   "id": "8013958b",
   "metadata": {
    "id": "8013958b"
   },
   "outputs": [],
   "source": [
    "train['goods_price'] = train['goods_price'].fillna(train.groupby(['goods_category_id']\n",
    "                                                               )['goods_price'].transform('median'))\n",
    "\n",
    "test['goods_price'] = test['goods_price'].fillna(test.groupby(['goods_category_id']\n",
    "                                                               )['goods_price'].transform('median'))"
   ]
  },
  {
   "cell_type": "markdown",
   "id": "13a7a4bc-2da0-40e7-b215-ee811f3f5d9b",
   "metadata": {},
   "source": [
    "Если остались не заполненные строки, удалим их"
   ]
  },
  {
   "cell_type": "code",
   "execution_count": 20,
   "id": "a97e8d57",
   "metadata": {
    "id": "a97e8d57"
   },
   "outputs": [],
   "source": [
    "train.dropna(inplace=True)\n",
    "test.dropna(inplace=True)"
   ]
  },
  {
   "cell_type": "code",
   "execution_count": 21,
   "id": "ab089756",
   "metadata": {
    "id": "ab089756",
    "outputId": "bde6e581-59a6-42ae-d117-1ec1d982ab65"
   },
   "outputs": [
    {
     "data": {
      "text/plain": [
       "offer_depersanalised    0\n",
       "goods_depersanalised    0\n",
       "sum_length              0\n",
       "attrs+title_score       0\n",
       "offer_price             0\n",
       "goods_price             0\n",
       "goods_category_id       0\n",
       "target                  0\n",
       "dtype: int64"
      ]
     },
     "execution_count": 21,
     "metadata": {},
     "output_type": "execute_result"
    }
   ],
   "source": [
    "train.isna().sum()"
   ]
  },
  {
   "cell_type": "code",
   "execution_count": 22,
   "id": "5921b748",
   "metadata": {
    "id": "5921b748",
    "outputId": "0a953cbb-8aeb-45c7-8cfe-9fd487890576"
   },
   "outputs": [
    {
     "data": {
      "text/plain": [
       "offer_depersanalised    0\n",
       "goods_depersanalised    0\n",
       "sum_length              0\n",
       "attrs+title_score       0\n",
       "offer_price             0\n",
       "goods_price             0\n",
       "goods_category_id       0\n",
       "id                      0\n",
       "dtype: int64"
      ]
     },
     "execution_count": 22,
     "metadata": {},
     "output_type": "execute_result"
    }
   ],
   "source": [
    "test.isna().sum()"
   ]
  },
  {
   "cell_type": "markdown",
   "id": "0bffef68-1cec-4ea0-bdb8-94bda4fd03ae",
   "metadata": {},
   "source": [
    "## Распределение данных"
   ]
  },
  {
   "cell_type": "code",
   "execution_count": 23,
   "id": "eb934554-920b-4e6f-b2c6-8408880e575f",
   "metadata": {},
   "outputs": [
    {
     "data": {
      "image/png": "[encoded data removed]",
      "text/plain": [
       "<Figure size 864x144 with 1 Axes>"
      ]
     },
     "metadata": {
      "needs_background": "light"
     },
     "output_type": "display_data"
    },
    {
     "data": {
      "image/png": "[encoded data removed]",
      "text/plain": [
       "<Figure size 864x144 with 1 Axes>"
      ]
     },
     "metadata": {
      "needs_background": "light"
     },
     "output_type": "display_data"
    },
    {
     "data": {
      "image/png": "[encoded data removed]",
      "text/plain": [
       "<Figure size 864x144 with 1 Axes>"
      ]
     },
     "metadata": {
      "needs_background": "light"
     },
     "output_type": "display_data"
    },
    {
     "data": {
      "image/png": "[encoded data removed]",
      "text/plain": [
       "<Figure size 864x144 with 1 Axes>"
      ]
     },
     "metadata": {
      "needs_background": "light"
     },
     "output_type": "display_data"
    },
    {
     "data": {
      "image/png": "[encoded data removed]",
      "text/plain": [
       "<Figure size 864x144 with 1 Axes>"
      ]
     },
     "metadata": {
      "needs_background": "light"
     },
     "output_type": "display_data"
    },
    {
     "data": {
      "image/png": "[encoded data removed]",
      "text/plain": [
       "<Figure size 864x144 with 1 Axes>"
      ]
     },
     "metadata": {
      "needs_background": "light"
     },
     "output_type": "display_data"
    },
    {
     "data": {
      "image/png": "[encoded data removed]",
      "text/plain": [
       "<Figure size 864x144 with 1 Axes>"
      ]
     },
     "metadata": {
      "needs_background": "light"
     },
     "output_type": "display_data"
    },
    {
     "data": {
      "image/png": "[encoded data removed]",
      "text/plain": [
       "<Figure size 864x144 with 1 Axes>"
      ]
     },
     "metadata": {
      "needs_background": "light"
     },
     "output_type": "display_data"
    }
   ],
   "source": [
    "boxplot_features(train)"
   ]
  },
  {
   "cell_type": "markdown",
   "id": "b324ff28-6175-493d-b29c-b65d97818715",
   "metadata": {},
   "source": [
    "Как и было выявлено ранее, в **offer_price** и **goods_price** встречаются редкие выбивающиеся значения, эти строки можно удалить"
   ]
  },
  {
   "cell_type": "code",
   "execution_count": 24,
   "id": "0ff516be-7ea2-4f4c-9d7b-b0fb2abc274e",
   "metadata": {},
   "outputs": [],
   "source": [
    "train.drop(train[train['offer_price'] >= 100000].index, inplace=True)\n",
    "train.drop(train[train['goods_price'] >= 100000].index, inplace=True)"
   ]
  },
  {
   "cell_type": "code",
   "execution_count": 25,
   "id": "9264ccf4-aa7b-4549-b48f-4a4200f604b2",
   "metadata": {},
   "outputs": [
    {
     "data": {
      "text/html": [
       "<div>\n",
       "<style scoped>\n",
       "    .dataframe tbody tr th:only-of-type {\n",
       "        vertical-align: middle;\n",
       "    }\n",
       "\n",
       "    .dataframe tbody tr th {\n",
       "        vertical-align: top;\n",
       "    }\n",
       "\n",
       "    .dataframe thead th {\n",
       "        text-align: right;\n",
       "    }\n",
       "</style>\n",
       "<table border=\"1\" class=\"dataframe\">\n",
       "  <thead>\n",
       "    <tr style=\"text-align: right;\">\n",
       "      <th></th>\n",
       "      <th>offer_price</th>\n",
       "      <th>goods_price</th>\n",
       "    </tr>\n",
       "  </thead>\n",
       "  <tbody>\n",
       "    <tr>\n",
       "      <th>count</th>\n",
       "      <td>2439501.00</td>\n",
       "      <td>2439501.00</td>\n",
       "    </tr>\n",
       "    <tr>\n",
       "      <th>mean</th>\n",
       "      <td>8496.64</td>\n",
       "      <td>6106.63</td>\n",
       "    </tr>\n",
       "    <tr>\n",
       "      <th>std</th>\n",
       "      <td>14772.50</td>\n",
       "      <td>12041.55</td>\n",
       "    </tr>\n",
       "    <tr>\n",
       "      <th>min</th>\n",
       "      <td>101.00</td>\n",
       "      <td>101.00</td>\n",
       "    </tr>\n",
       "    <tr>\n",
       "      <th>25%</th>\n",
       "      <td>959.00</td>\n",
       "      <td>693.00</td>\n",
       "    </tr>\n",
       "    <tr>\n",
       "      <th>50%</th>\n",
       "      <td>2689.00</td>\n",
       "      <td>1965.00</td>\n",
       "    </tr>\n",
       "    <tr>\n",
       "      <th>75%</th>\n",
       "      <td>8150.00</td>\n",
       "      <td>4931.00</td>\n",
       "    </tr>\n",
       "    <tr>\n",
       "      <th>max</th>\n",
       "      <td>99999.00</td>\n",
       "      <td>99999.00</td>\n",
       "    </tr>\n",
       "  </tbody>\n",
       "</table>\n",
       "</div>"
      ],
      "text/plain": [
       "       offer_price  goods_price\n",
       "count   2439501.00   2439501.00\n",
       "mean       8496.64      6106.63\n",
       "std       14772.50     12041.55\n",
       "min         101.00       101.00\n",
       "25%         959.00       693.00\n",
       "50%        2689.00      1965.00\n",
       "75%        8150.00      4931.00\n",
       "max       99999.00     99999.00"
      ]
     },
     "execution_count": 25,
     "metadata": {},
     "output_type": "execute_result"
    }
   ],
   "source": [
    "train[['offer_price', 'goods_price']].describe(include='all')"
   ]
  },
  {
   "cell_type": "markdown",
   "id": "9da19c33-7561-4151-8660-69904338feb4",
   "metadata": {},
   "source": [
    "Данные в оставшихся признаках, хранят допустимые значения"
   ]
  },
  {
   "cell_type": "markdown",
   "id": "16d05987",
   "metadata": {
    "id": "16d05987"
   },
   "source": [
    "## Новые признаки"
   ]
  },
  {
   "cell_type": "markdown",
   "id": "f74fbdfa",
   "metadata": {
    "id": "f74fbdfa"
   },
   "source": [
    "- Абсолютная разница: Разница между offer_price и goods_price в абсолютных значениях.\n",
    "- Вычисление отношения между ценой предложения (offer_price) и ценой товара (goods_price)."
   ]
  },
  {
   "cell_type": "code",
   "execution_count": 26,
   "id": "d66bf129",
   "metadata": {
    "id": "d66bf129"
   },
   "outputs": [],
   "source": [
    "train['difference'] = abs(train['offer_price'] - train['goods_price'])\n",
    "train['price_ratio'] = train['offer_price'] / train['goods_price']"
   ]
  },
  {
   "cell_type": "code",
   "execution_count": 27,
   "id": "1990ff64",
   "metadata": {
    "id": "1990ff64",
    "outputId": "1fbea5cc-9128-4f48-e3d8-006b7a63a12d"
   },
   "outputs": [
    {
     "data": {
      "text/html": [
       "<div>\n",
       "<style scoped>\n",
       "    .dataframe tbody tr th:only-of-type {\n",
       "        vertical-align: middle;\n",
       "    }\n",
       "\n",
       "    .dataframe tbody tr th {\n",
       "        vertical-align: top;\n",
       "    }\n",
       "\n",
       "    .dataframe thead th {\n",
       "        text-align: right;\n",
       "    }\n",
       "</style>\n",
       "<table border=\"1\" class=\"dataframe\">\n",
       "  <thead>\n",
       "    <tr style=\"text-align: right;\">\n",
       "      <th></th>\n",
       "      <th>offer_depersanalised</th>\n",
       "      <th>goods_depersanalised</th>\n",
       "      <th>sum_length</th>\n",
       "      <th>attrs+title_score</th>\n",
       "      <th>offer_price</th>\n",
       "      <th>goods_price</th>\n",
       "      <th>goods_category_id</th>\n",
       "      <th>target</th>\n",
       "      <th>difference</th>\n",
       "      <th>price_ratio</th>\n",
       "    </tr>\n",
       "  </thead>\n",
       "  <tbody>\n",
       "    <tr>\n",
       "      <th>0</th>\n",
       "      <td>295140</td>\n",
       "      <td>1396793</td>\n",
       "      <td>37</td>\n",
       "      <td>0.03</td>\n",
       "      <td>1070</td>\n",
       "      <td>578.00</td>\n",
       "      <td>14.00</td>\n",
       "      <td>0</td>\n",
       "      <td>492.00</td>\n",
       "      <td>1.85</td>\n",
       "    </tr>\n",
       "    <tr>\n",
       "      <th>1</th>\n",
       "      <td>65291</td>\n",
       "      <td>1396586</td>\n",
       "      <td>38</td>\n",
       "      <td>0.05</td>\n",
       "      <td>698</td>\n",
       "      <td>578.00</td>\n",
       "      <td>14.00</td>\n",
       "      <td>0</td>\n",
       "      <td>120.00</td>\n",
       "      <td>1.21</td>\n",
       "    </tr>\n",
       "    <tr>\n",
       "      <th>2</th>\n",
       "      <td>39232</td>\n",
       "      <td>1396244</td>\n",
       "      <td>38</td>\n",
       "      <td>0.09</td>\n",
       "      <td>837</td>\n",
       "      <td>578.00</td>\n",
       "      <td>14.00</td>\n",
       "      <td>0</td>\n",
       "      <td>259.00</td>\n",
       "      <td>1.45</td>\n",
       "    </tr>\n",
       "    <tr>\n",
       "      <th>3</th>\n",
       "      <td>39232</td>\n",
       "      <td>1396513</td>\n",
       "      <td>38</td>\n",
       "      <td>0.09</td>\n",
       "      <td>837</td>\n",
       "      <td>578.00</td>\n",
       "      <td>14.00</td>\n",
       "      <td>0</td>\n",
       "      <td>259.00</td>\n",
       "      <td>1.45</td>\n",
       "    </tr>\n",
       "    <tr>\n",
       "      <th>4</th>\n",
       "      <td>65052</td>\n",
       "      <td>1396237</td>\n",
       "      <td>38</td>\n",
       "      <td>0.08</td>\n",
       "      <td>1085</td>\n",
       "      <td>578.00</td>\n",
       "      <td>14.00</td>\n",
       "      <td>0</td>\n",
       "      <td>507.00</td>\n",
       "      <td>1.88</td>\n",
       "    </tr>\n",
       "  </tbody>\n",
       "</table>\n",
       "</div>"
      ],
      "text/plain": [
       "   offer_depersanalised  goods_depersanalised  sum_length  attrs+title_score  \\\n",
       "0                295140               1396793          37               0.03   \n",
       "1                 65291               1396586          38               0.05   \n",
       "2                 39232               1396244          38               0.09   \n",
       "3                 39232               1396513          38               0.09   \n",
       "4                 65052               1396237          38               0.08   \n",
       "\n",
       "   offer_price  goods_price  goods_category_id  target  difference  \\\n",
       "0         1070       578.00              14.00       0      492.00   \n",
       "1          698       578.00              14.00       0      120.00   \n",
       "2          837       578.00              14.00       0      259.00   \n",
       "3          837       578.00              14.00       0      259.00   \n",
       "4         1085       578.00              14.00       0      507.00   \n",
       "\n",
       "   price_ratio  \n",
       "0         1.85  \n",
       "1         1.21  \n",
       "2         1.45  \n",
       "3         1.45  \n",
       "4         1.88  "
      ]
     },
     "execution_count": 27,
     "metadata": {},
     "output_type": "execute_result"
    }
   ],
   "source": [
    "train.head()"
   ]
  },
  {
   "cell_type": "markdown",
   "id": "64b31295-fa49-4e33-ba64-4e0663ed358a",
   "metadata": {},
   "source": [
    "## Обзор данных"
   ]
  },
  {
   "cell_type": "code",
   "execution_count": 28,
   "id": "77340ae8-9a98-4c1c-8ea1-d19739ce5f4c",
   "metadata": {},
   "outputs": [],
   "source": [
    "# Разделим данные по таргету\n",
    "train_0 = train.loc[train['target'] == 0]\n",
    "train_1 = train.loc[train['target'] == 1]\n",
    "\n",
    "# Список всех численных признаков\n",
    "num_col = ['sum_length', 'attrs+title_score', \n",
    "           'offer_price', 'goods_price', \n",
    "           'difference', 'price_ratio']"
   ]
  },
  {
   "cell_type": "code",
   "execution_count": 29,
   "id": "ae8e41c2-bc0f-4f49-afde-8d98b5eaf86f",
   "metadata": {},
   "outputs": [
    {
     "data": {
      "image/png": "[encoded data removed]",
      "text/plain": [
       "<Figure size 432x288 with 1 Axes>"
      ]
     },
     "metadata": {
      "needs_background": "light"
     },
     "output_type": "display_data"
    },
    {
     "data": {
      "image/png": "[encoded data removed]",
      "text/plain": [
       "<Figure size 432x288 with 1 Axes>"
      ]
     },
     "metadata": {
      "needs_background": "light"
     },
     "output_type": "display_data"
    },
    {
     "data": {
      "image/png": "[encoded data removed]",
      "text/plain": [
       "<Figure size 432x288 with 1 Axes>"
      ]
     },
     "metadata": {
      "needs_background": "light"
     },
     "output_type": "display_data"
    },
    {
     "data": {
      "image/png": "[encoded data removed]",
      "text/plain": [
       "<Figure size 432x288 with 1 Axes>"
      ]
     },
     "metadata": {
      "needs_background": "light"
     },
     "output_type": "display_data"
    },
    {
     "data": {
      "image/png": "[encoded data removed]",
      "text/plain": [
       "<Figure size 432x288 with 1 Axes>"
      ]
     },
     "metadata": {
      "needs_background": "light"
     },
     "output_type": "display_data"
    },
    {
     "data": {
      "image/png": "[encoded data removed]",
      "text/plain": [
       "<Figure size 432x288 with 1 Axes>"
      ]
     },
     "metadata": {
      "needs_background": "light"
     },
     "output_type": "display_data"
    }
   ],
   "source": [
    "# Гистограмма для численных признаков\n",
    "for i in num_col:\n",
    "        \n",
    "    plt.rc('axes', titlesize=20) \n",
    "    \n",
    "    sns.histplot(train_0[i], kde=True, alpha = 0.5, \n",
    "                 edgecolor=(1, 1, 1, .4), label='Не матч')\n",
    "    \n",
    "    sns.histplot(train_1[i], kde=True, alpha = 0.5, \n",
    "                 edgecolor=(1, 1, 1, .4), label='Матч')\n",
    "    \n",
    "    plt.legend(loc='upper left')\n",
    "    plt.ylabel('Количество')\n",
    "    plt.title(i)\n",
    "    plt.show()"
   ]
  },
  {
   "cell_type": "markdown",
   "id": "d87d2a29-e55b-4d61-876c-390531c7f008",
   "metadata": {},
   "source": [
    "## ИТОГ\n",
    "\n",
    "**Выбросы в данных**, для сглаживания шума, все значения в столбцах `offer_price` и `goods_price` превышающие порог в 100_000 были удалены.\n",
    "\n",
    "**Пропуски** были изучены с помощью библиотеки `msno`, корреляции между пропусками нет, часть данных были заполнены заглушкой, часть медианой по группам соответствующих столбцов.\n",
    "\n",
    "**Сгенерированные признаки:**\n",
    "- **Абсолютная разница** Разница между offer_price и goods_price\n",
    "- **Отношения между ценой** предложения и ценой товара."
   ]
  },
  {
   "cell_type": "markdown",
   "id": "ea1a0ad3",
   "metadata": {
    "id": "ea1a0ad3"
   },
   "source": [
    "# Эмбеддинги"
   ]
  },
  {
   "cell_type": "markdown",
   "id": "c4f1c1fb",
   "metadata": {
    "id": "c4f1c1fb"
   },
   "source": [
    "У нас есть файлы с векторами изображений и названий+атрибутов с идентификаторами. Можно добавить их в основной датасет для обучения модели, для этого:\n",
    "\n",
    "- Нужно уменьшить размерность эмбеддингов, для этого воспользуемся методом главных компонент PCA\n",
    "- Объединим векторы с их идентификаторами\n",
    "- По итогу должны получится двумерные массивы даных, их уже преобразуем в формат DataFrame и смаржим с основным датафреймом"
   ]
  },
  {
   "cell_type": "code",
   "execution_count": 30,
   "id": "55c9aeaf",
   "metadata": {
    "id": "55c9aeaf"
   },
   "outputs": [],
   "source": [
    "# Делаем копию датасета\n",
    "train_new = train.copy"
   ]
  },
  {
   "cell_type": "markdown",
   "id": "42b37633",
   "metadata": {
    "id": "42b37633"
   },
   "source": [
    "Уменьшим размерность эмбеддингов до 20 гланых компонент, но перед этим стандартизируем их"
   ]
  },
  {
   "cell_type": "code",
   "execution_count": 31,
   "id": "307cf2b6",
   "metadata": {
    "id": "307cf2b6"
   },
   "outputs": [],
   "source": [
    "# Инициализация и применение стандартизатора к каждому набору эмбеддингов\n",
    "scaler = StandardScaler()\n",
    "\n",
    "# Векторы названий+атрибутов\n",
    "goods_title_embed = scaler.fit_transform(goods_title_embed)\n",
    "offer_title_embed = scaler.transform(offer_title_embed)\n",
    "\n",
    "# Векторы изображений\n",
    "goods_image_embed = scaler.fit_transform(goods_image_embed)\n",
    "offer_image_embed = scaler.transform(offer_image_embed)"
   ]
  },
  {
   "cell_type": "code",
   "execution_count": 32,
   "id": "9889d600",
   "metadata": {
    "id": "9889d600"
   },
   "outputs": [],
   "source": [
    "pca = PCA(n_components=20)\n",
    "\n",
    "# Векторы названий+атрибутов\n",
    "goods_title_embed = pca.fit_transform(goods_title_embed)\n",
    "offer_title_embed = pca.transform(offer_title_embed)"
   ]
  },
  {
   "cell_type": "code",
   "execution_count": 33,
   "id": "fe37a4bb",
   "metadata": {
    "id": "fe37a4bb"
   },
   "outputs": [],
   "source": [
    "# Векторы изображений\n",
    "goods_image_embed = pca.fit_transform(goods_image_embed)\n",
    "offer_image_embed = pca.transform(offer_image_embed)"
   ]
  },
  {
   "cell_type": "markdown",
   "id": "70a1d5d5",
   "metadata": {
    "id": "70a1d5d5"
   },
   "source": [
    "Объединим векторы изображений с их идентификаторами"
   ]
  },
  {
   "cell_type": "code",
   "execution_count": 34,
   "id": "5fef74bb",
   "metadata": {
    "id": "5fef74bb"
   },
   "outputs": [],
   "source": [
    "# Векторы названий+атрибутов\n",
    "goods_title = np.column_stack((goods_title_items, goods_title_embed))\n",
    "offer_title = np.column_stack((offer_title_items, offer_title_embed))"
   ]
  },
  {
   "cell_type": "code",
   "execution_count": 35,
   "id": "cb68e755",
   "metadata": {
    "id": "cb68e755"
   },
   "outputs": [],
   "source": [
    "# Векторы изображений\n",
    "goods_image = np.column_stack((goods_image_items, goods_image_embed))\n",
    "offer_image = np.column_stack((offer_image_items, offer_image_embed))"
   ]
  },
  {
   "cell_type": "markdown",
   "id": "e13f7f9a",
   "metadata": {
    "id": "e13f7f9a"
   },
   "source": [
    "Переведем их в формат DataFrame"
   ]
  },
  {
   "cell_type": "code",
   "execution_count": 36,
   "id": "f42985c2",
   "metadata": {
    "id": "f42985c2"
   },
   "outputs": [],
   "source": [
    "goods_title = pd.DataFrame(goods_title)\n",
    "offer_title = pd.DataFrame(offer_title)\n",
    "\n",
    "goods_image = pd.DataFrame(goods_image)\n",
    "offer_image = pd.DataFrame(offer_image)"
   ]
  },
  {
   "cell_type": "code",
   "execution_count": 37,
   "id": "5619e44b",
   "metadata": {
    "id": "5619e44b"
   },
   "outputs": [],
   "source": [
    "# Объединяем offer_image и goods_image по столбцу 0\n",
    "df_offer = pd.merge(offer_image, offer_title, on=0, suffixes=('_image_offer', '_title_offer'))\n",
    "\n",
    "# Объединяем offer_title и goods_title по столбцу 0\n",
    "df_goods = pd.merge(goods_image, goods_title, on=0, suffixes=('_image_goods', '_title_goods'))"
   ]
  },
  {
   "cell_type": "markdown",
   "id": "48c72dc3",
   "metadata": {
    "id": "48c72dc3"
   },
   "source": [
    "Первый столбец хранит идентификаторы, зададим название:"
   ]
  },
  {
   "cell_type": "code",
   "execution_count": 38,
   "id": "5174733f",
   "metadata": {
    "id": "5174733f"
   },
   "outputs": [],
   "source": [
    "df_offer = df_offer.rename(columns={df_goods.columns[0]: 'offer_depersanalised'})\n",
    "df_goods = df_goods.rename(columns={df_goods.columns[0]: 'goods_depersanalised'})"
   ]
  },
  {
   "cell_type": "markdown",
   "id": "f947fc5d",
   "metadata": {
    "id": "f947fc5d"
   },
   "source": [
    "Переведем идентификаторы в нужный тип данных с object в int"
   ]
  },
  {
   "cell_type": "code",
   "execution_count": 39,
   "id": "916dad34",
   "metadata": {
    "id": "916dad34"
   },
   "outputs": [],
   "source": [
    "df_offer['offer_depersanalised'] = df_offer['offer_depersanalised'].astype(int)\n",
    "df_goods['goods_depersanalised'] = df_goods['goods_depersanalised'].astype(int)"
   ]
  },
  {
   "cell_type": "markdown",
   "id": "3cbbc739",
   "metadata": {
    "id": "3cbbc739"
   },
   "source": [
    "Сцепим `train` с эмбеддингами"
   ]
  },
  {
   "cell_type": "code",
   "execution_count": 40,
   "id": "ef3dbc6e",
   "metadata": {
    "id": "ef3dbc6e"
   },
   "outputs": [],
   "source": [
    "train = pd.merge(df_goods, train, on='goods_depersanalised', how='inner')\n",
    "train = pd.merge(df_offer, train, on='offer_depersanalised', how='inner')"
   ]
  },
  {
   "cell_type": "markdown",
   "id": "681815d3",
   "metadata": {
    "id": "681815d3"
   },
   "source": [
    "**Проверим дубли**"
   ]
  },
  {
   "cell_type": "code",
   "execution_count": 41,
   "id": "c52eceba",
   "metadata": {
    "id": "c52eceba",
    "outputId": "993b8e8a-1d88-4575-81b4-6fe8c67a4973"
   },
   "outputs": [
    {
     "data": {
      "text/plain": [
       "0"
      ]
     },
     "execution_count": 41,
     "metadata": {},
     "output_type": "execute_result"
    }
   ],
   "source": [
    "train.drop_duplicates(inplace=True)\n",
    "train.duplicated().sum()"
   ]
  },
  {
   "cell_type": "code",
   "execution_count": 42,
   "id": "4c54fa70",
   "metadata": {
    "id": "4c54fa70"
   },
   "outputs": [],
   "source": [
    "# Выгрузка\n",
    "train.to_csv('train_emb.csv')"
   ]
  },
  {
   "cell_type": "code",
   "execution_count": 43,
   "id": "abef9bb7",
   "metadata": {
    "id": "abef9bb7",
    "outputId": "1798b795-8e80-43f4-f442-f8090e296c9a"
   },
   "outputs": [
    {
     "data": {
      "text/html": [
       "<div>\n",
       "<style scoped>\n",
       "    .dataframe tbody tr th:only-of-type {\n",
       "        vertical-align: middle;\n",
       "    }\n",
       "\n",
       "    .dataframe tbody tr th {\n",
       "        vertical-align: top;\n",
       "    }\n",
       "\n",
       "    .dataframe thead th {\n",
       "        text-align: right;\n",
       "    }\n",
       "</style>\n",
       "<table border=\"1\" class=\"dataframe\">\n",
       "  <thead>\n",
       "    <tr style=\"text-align: right;\">\n",
       "      <th></th>\n",
       "      <th>offer_depersanalised</th>\n",
       "      <th>1_image_offer</th>\n",
       "      <th>2_image_offer</th>\n",
       "      <th>3_image_offer</th>\n",
       "      <th>4_image_offer</th>\n",
       "      <th>5_image_offer</th>\n",
       "      <th>6_image_offer</th>\n",
       "      <th>7_image_offer</th>\n",
       "      <th>8_image_offer</th>\n",
       "      <th>9_image_offer</th>\n",
       "      <th>10_image_offer</th>\n",
       "      <th>11_image_offer</th>\n",
       "      <th>12_image_offer</th>\n",
       "      <th>13_image_offer</th>\n",
       "      <th>14_image_offer</th>\n",
       "      <th>15_image_offer</th>\n",
       "      <th>16_image_offer</th>\n",
       "      <th>17_image_offer</th>\n",
       "      <th>18_image_offer</th>\n",
       "      <th>19_image_offer</th>\n",
       "      <th>20_image_offer</th>\n",
       "      <th>1_title_offer</th>\n",
       "      <th>2_title_offer</th>\n",
       "      <th>3_title_offer</th>\n",
       "      <th>4_title_offer</th>\n",
       "      <th>5_title_offer</th>\n",
       "      <th>6_title_offer</th>\n",
       "      <th>7_title_offer</th>\n",
       "      <th>8_title_offer</th>\n",
       "      <th>9_title_offer</th>\n",
       "      <th>10_title_offer</th>\n",
       "      <th>11_title_offer</th>\n",
       "      <th>12_title_offer</th>\n",
       "      <th>13_title_offer</th>\n",
       "      <th>14_title_offer</th>\n",
       "      <th>15_title_offer</th>\n",
       "      <th>16_title_offer</th>\n",
       "      <th>17_title_offer</th>\n",
       "      <th>18_title_offer</th>\n",
       "      <th>19_title_offer</th>\n",
       "      <th>20_title_offer</th>\n",
       "      <th>goods_depersanalised</th>\n",
       "      <th>1_image_goods</th>\n",
       "      <th>2_image_goods</th>\n",
       "      <th>3_image_goods</th>\n",
       "      <th>4_image_goods</th>\n",
       "      <th>5_image_goods</th>\n",
       "      <th>6_image_goods</th>\n",
       "      <th>7_image_goods</th>\n",
       "      <th>8_image_goods</th>\n",
       "      <th>9_image_goods</th>\n",
       "      <th>10_image_goods</th>\n",
       "      <th>11_image_goods</th>\n",
       "      <th>12_image_goods</th>\n",
       "      <th>13_image_goods</th>\n",
       "      <th>14_image_goods</th>\n",
       "      <th>15_image_goods</th>\n",
       "      <th>16_image_goods</th>\n",
       "      <th>17_image_goods</th>\n",
       "      <th>18_image_goods</th>\n",
       "      <th>19_image_goods</th>\n",
       "      <th>20_image_goods</th>\n",
       "      <th>1_title_goods</th>\n",
       "      <th>2_title_goods</th>\n",
       "      <th>3_title_goods</th>\n",
       "      <th>4_title_goods</th>\n",
       "      <th>5_title_goods</th>\n",
       "      <th>6_title_goods</th>\n",
       "      <th>7_title_goods</th>\n",
       "      <th>8_title_goods</th>\n",
       "      <th>9_title_goods</th>\n",
       "      <th>10_title_goods</th>\n",
       "      <th>11_title_goods</th>\n",
       "      <th>12_title_goods</th>\n",
       "      <th>13_title_goods</th>\n",
       "      <th>14_title_goods</th>\n",
       "      <th>15_title_goods</th>\n",
       "      <th>16_title_goods</th>\n",
       "      <th>17_title_goods</th>\n",
       "      <th>18_title_goods</th>\n",
       "      <th>19_title_goods</th>\n",
       "      <th>20_title_goods</th>\n",
       "      <th>sum_length</th>\n",
       "      <th>attrs+title_score</th>\n",
       "      <th>offer_price</th>\n",
       "      <th>goods_price</th>\n",
       "      <th>goods_category_id</th>\n",
       "      <th>target</th>\n",
       "      <th>difference</th>\n",
       "      <th>price_ratio</th>\n",
       "    </tr>\n",
       "  </thead>\n",
       "  <tbody>\n",
       "    <tr>\n",
       "      <th>0</th>\n",
       "      <td>206</td>\n",
       "      <td>2.459684</td>\n",
       "      <td>2.0333705</td>\n",
       "      <td>-2.15342</td>\n",
       "      <td>-1.9531354</td>\n",
       "      <td>-1.5502602</td>\n",
       "      <td>0.4773374</td>\n",
       "      <td>1.5758542</td>\n",
       "      <td>0.111208156</td>\n",
       "      <td>-1.4590214</td>\n",
       "      <td>-3.7468724</td>\n",
       "      <td>-1.0664066</td>\n",
       "      <td>-0.52251124</td>\n",
       "      <td>0.27266583</td>\n",
       "      <td>1.0497209</td>\n",
       "      <td>0.47035435</td>\n",
       "      <td>-1.8075706</td>\n",
       "      <td>0.067405455</td>\n",
       "      <td>-2.7935052</td>\n",
       "      <td>2.3493388</td>\n",
       "      <td>-0.26545385</td>\n",
       "      <td>-0.3878830158656558</td>\n",
       "      <td>1.9044972936171831</td>\n",
       "      <td>0.5056816066695108</td>\n",
       "      <td>-0.9442945680588829</td>\n",
       "      <td>1.6971009754524917</td>\n",
       "      <td>0.4090249519991355</td>\n",
       "      <td>-1.4673413629772774</td>\n",
       "      <td>-0.5056815958210994</td>\n",
       "      <td>0.2896054424997721</td>\n",
       "      <td>-0.03233320090846529</td>\n",
       "      <td>-0.9512857418682575</td>\n",
       "      <td>0.650258974701912</td>\n",
       "      <td>1.2983854327698425</td>\n",
       "      <td>1.1890561851343453</td>\n",
       "      <td>1.0099736815052909</td>\n",
       "      <td>-0.7832588448766675</td>\n",
       "      <td>-0.0029072189194727515</td>\n",
       "      <td>0.049177616491258916</td>\n",
       "      <td>-1.0679587773976735</td>\n",
       "      <td>-1.325668668301797</td>\n",
       "      <td>634545</td>\n",
       "      <td>0.4928074</td>\n",
       "      <td>1.0240449</td>\n",
       "      <td>-2.0250194</td>\n",
       "      <td>-2.6193435</td>\n",
       "      <td>-1.6541759</td>\n",
       "      <td>-0.90821695</td>\n",
       "      <td>1.8607503</td>\n",
       "      <td>1.0576857</td>\n",
       "      <td>-1.255598</td>\n",
       "      <td>-0.7790325</td>\n",
       "      <td>-1.0431384</td>\n",
       "      <td>0.5204499</td>\n",
       "      <td>-1.7797014</td>\n",
       "      <td>1.451368</td>\n",
       "      <td>0.20613135</td>\n",
       "      <td>-0.41353878</td>\n",
       "      <td>-0.50848836</td>\n",
       "      <td>-1.4780515</td>\n",
       "      <td>-0.007988067</td>\n",
       "      <td>1.1042429</td>\n",
       "      <td>-0.5653165387709738</td>\n",
       "      <td>1.3900346274881432</td>\n",
       "      <td>1.0312373948950473</td>\n",
       "      <td>0.7286039956767609</td>\n",
       "      <td>-0.09803822632062194</td>\n",
       "      <td>0.3364488073829911</td>\n",
       "      <td>0.7316054446770403</td>\n",
       "      <td>-0.6724174906415714</td>\n",
       "      <td>0.9839886826407003</td>\n",
       "      <td>-0.04132839943338788</td>\n",
       "      <td>0.4889116103925895</td>\n",
       "      <td>0.3605181493200347</td>\n",
       "      <td>-0.6803309191821575</td>\n",
       "      <td>-1.855927732034519</td>\n",
       "      <td>0.544961495772344</td>\n",
       "      <td>0.6675252312845125</td>\n",
       "      <td>1.1971657904379573</td>\n",
       "      <td>-0.8017701243406684</td>\n",
       "      <td>-1.3019559282627382</td>\n",
       "      <td>-0.4521349765477918</td>\n",
       "      <td>1195</td>\n",
       "      <td>0.88</td>\n",
       "      <td>28799</td>\n",
       "      <td>15525.00</td>\n",
       "      <td>3.00</td>\n",
       "      <td>1</td>\n",
       "      <td>13274.00</td>\n",
       "      <td>1.86</td>\n",
       "    </tr>\n",
       "    <tr>\n",
       "      <th>1</th>\n",
       "      <td>206</td>\n",
       "      <td>2.459684</td>\n",
       "      <td>2.0333705</td>\n",
       "      <td>-2.15342</td>\n",
       "      <td>-1.9531354</td>\n",
       "      <td>-1.5502602</td>\n",
       "      <td>0.4773374</td>\n",
       "      <td>1.5758542</td>\n",
       "      <td>0.111208156</td>\n",
       "      <td>-1.4590214</td>\n",
       "      <td>-3.7468724</td>\n",
       "      <td>-1.0664066</td>\n",
       "      <td>-0.52251124</td>\n",
       "      <td>0.27266583</td>\n",
       "      <td>1.0497209</td>\n",
       "      <td>0.47035435</td>\n",
       "      <td>-1.8075706</td>\n",
       "      <td>0.067405455</td>\n",
       "      <td>-2.7935052</td>\n",
       "      <td>2.3493388</td>\n",
       "      <td>-0.26545385</td>\n",
       "      <td>-0.3878830158656558</td>\n",
       "      <td>1.9044972936171831</td>\n",
       "      <td>0.5056816066695108</td>\n",
       "      <td>-0.9442945680588829</td>\n",
       "      <td>1.6971009754524917</td>\n",
       "      <td>0.4090249519991355</td>\n",
       "      <td>-1.4673413629772774</td>\n",
       "      <td>-0.5056815958210994</td>\n",
       "      <td>0.2896054424997721</td>\n",
       "      <td>-0.03233320090846529</td>\n",
       "      <td>-0.9512857418682575</td>\n",
       "      <td>0.650258974701912</td>\n",
       "      <td>1.2983854327698425</td>\n",
       "      <td>1.1890561851343453</td>\n",
       "      <td>1.0099736815052909</td>\n",
       "      <td>-0.7832588448766675</td>\n",
       "      <td>-0.0029072189194727515</td>\n",
       "      <td>0.049177616491258916</td>\n",
       "      <td>-1.0679587773976735</td>\n",
       "      <td>-1.325668668301797</td>\n",
       "      <td>634543</td>\n",
       "      <td>0.4928074</td>\n",
       "      <td>1.0240449</td>\n",
       "      <td>-2.0250194</td>\n",
       "      <td>-2.6193435</td>\n",
       "      <td>-1.6541759</td>\n",
       "      <td>-0.90821695</td>\n",
       "      <td>1.8607503</td>\n",
       "      <td>1.0576857</td>\n",
       "      <td>-1.255598</td>\n",
       "      <td>-0.7790325</td>\n",
       "      <td>-1.0431384</td>\n",
       "      <td>0.5204499</td>\n",
       "      <td>-1.7797014</td>\n",
       "      <td>1.451368</td>\n",
       "      <td>0.20613135</td>\n",
       "      <td>-0.41353878</td>\n",
       "      <td>-0.50848836</td>\n",
       "      <td>-1.4780515</td>\n",
       "      <td>-0.007988067</td>\n",
       "      <td>1.1042429</td>\n",
       "      <td>-0.2682997421725136</td>\n",
       "      <td>-1.661638181891044</td>\n",
       "      <td>0.9532434318439609</td>\n",
       "      <td>-0.24491751637916917</td>\n",
       "      <td>0.666050022090358</td>\n",
       "      <td>-1.0142509653735354</td>\n",
       "      <td>0.6885503774854169</td>\n",
       "      <td>-0.015222041848315732</td>\n",
       "      <td>0.17869809347739396</td>\n",
       "      <td>-0.23141653988436392</td>\n",
       "      <td>-0.4097138708019194</td>\n",
       "      <td>-0.9014653250166297</td>\n",
       "      <td>-0.9805552462464647</td>\n",
       "      <td>0.3940310654303062</td>\n",
       "      <td>0.6055323722077153</td>\n",
       "      <td>-0.6304665900431902</td>\n",
       "      <td>-1.3073320690928358</td>\n",
       "      <td>0.9658715968026671</td>\n",
       "      <td>0.24401398391448728</td>\n",
       "      <td>0.4374378117372806</td>\n",
       "      <td>1195</td>\n",
       "      <td>0.00</td>\n",
       "      <td>28799</td>\n",
       "      <td>10897.00</td>\n",
       "      <td>3.00</td>\n",
       "      <td>0</td>\n",
       "      <td>17902.00</td>\n",
       "      <td>2.64</td>\n",
       "    </tr>\n",
       "    <tr>\n",
       "      <th>2</th>\n",
       "      <td>206</td>\n",
       "      <td>2.459684</td>\n",
       "      <td>2.0333705</td>\n",
       "      <td>-2.15342</td>\n",
       "      <td>-1.9531354</td>\n",
       "      <td>-1.5502602</td>\n",
       "      <td>0.4773374</td>\n",
       "      <td>1.5758542</td>\n",
       "      <td>0.111208156</td>\n",
       "      <td>-1.4590214</td>\n",
       "      <td>-3.7468724</td>\n",
       "      <td>-1.0664066</td>\n",
       "      <td>-0.52251124</td>\n",
       "      <td>0.27266583</td>\n",
       "      <td>1.0497209</td>\n",
       "      <td>0.47035435</td>\n",
       "      <td>-1.8075706</td>\n",
       "      <td>0.067405455</td>\n",
       "      <td>-2.7935052</td>\n",
       "      <td>2.3493388</td>\n",
       "      <td>-0.26545385</td>\n",
       "      <td>-0.3878830158656558</td>\n",
       "      <td>1.9044972936171831</td>\n",
       "      <td>0.5056816066695108</td>\n",
       "      <td>-0.9442945680588829</td>\n",
       "      <td>1.6971009754524917</td>\n",
       "      <td>0.4090249519991355</td>\n",
       "      <td>-1.4673413629772774</td>\n",
       "      <td>-0.5056815958210994</td>\n",
       "      <td>0.2896054424997721</td>\n",
       "      <td>-0.03233320090846529</td>\n",
       "      <td>-0.9512857418682575</td>\n",
       "      <td>0.650258974701912</td>\n",
       "      <td>1.2983854327698425</td>\n",
       "      <td>1.1890561851343453</td>\n",
       "      <td>1.0099736815052909</td>\n",
       "      <td>-0.7832588448766675</td>\n",
       "      <td>-0.0029072189194727515</td>\n",
       "      <td>0.049177616491258916</td>\n",
       "      <td>-1.0679587773976735</td>\n",
       "      <td>-1.325668668301797</td>\n",
       "      <td>634544</td>\n",
       "      <td>0.4928074</td>\n",
       "      <td>1.0240449</td>\n",
       "      <td>-2.0250194</td>\n",
       "      <td>-2.6193435</td>\n",
       "      <td>-1.6541759</td>\n",
       "      <td>-0.90821695</td>\n",
       "      <td>1.8607503</td>\n",
       "      <td>1.0576857</td>\n",
       "      <td>-1.255598</td>\n",
       "      <td>-0.7790325</td>\n",
       "      <td>-1.0431384</td>\n",
       "      <td>0.5204499</td>\n",
       "      <td>-1.7797014</td>\n",
       "      <td>1.451368</td>\n",
       "      <td>0.20613135</td>\n",
       "      <td>-0.41353878</td>\n",
       "      <td>-0.50848836</td>\n",
       "      <td>-1.4780515</td>\n",
       "      <td>-0.007988067</td>\n",
       "      <td>1.1042429</td>\n",
       "      <td>0.8180125822320748</td>\n",
       "      <td>-0.5684275419948163</td>\n",
       "      <td>0.6171171160682964</td>\n",
       "      <td>1.9543272392701851</td>\n",
       "      <td>0.782029130667218</td>\n",
       "      <td>-0.9257083282076735</td>\n",
       "      <td>-1.0409411843867682</td>\n",
       "      <td>0.5215996111173704</td>\n",
       "      <td>-0.7343238484523569</td>\n",
       "      <td>-1.3652111392567308</td>\n",
       "      <td>0.6446109022912254</td>\n",
       "      <td>-1.0653681135319237</td>\n",
       "      <td>0.4072812739204559</td>\n",
       "      <td>0.7627325873879107</td>\n",
       "      <td>1.1904133156721113</td>\n",
       "      <td>-0.22059993339618875</td>\n",
       "      <td>-1.1834428311221319</td>\n",
       "      <td>0.07803250502990693</td>\n",
       "      <td>0.24963680278584613</td>\n",
       "      <td>-0.7172806708766041</td>\n",
       "      <td>1195</td>\n",
       "      <td>0.00</td>\n",
       "      <td>28799</td>\n",
       "      <td>15525.00</td>\n",
       "      <td>3.00</td>\n",
       "      <td>0</td>\n",
       "      <td>13274.00</td>\n",
       "      <td>1.86</td>\n",
       "    </tr>\n",
       "    <tr>\n",
       "      <th>3</th>\n",
       "      <td>242</td>\n",
       "      <td>3.528303</td>\n",
       "      <td>-0.12095541</td>\n",
       "      <td>-1.0855087</td>\n",
       "      <td>0.2965388</td>\n",
       "      <td>1.5348091</td>\n",
       "      <td>0.7619788</td>\n",
       "      <td>-0.4868829</td>\n",
       "      <td>2.4172668</td>\n",
       "      <td>1.4167641</td>\n",
       "      <td>-2.651434</td>\n",
       "      <td>-0.32905486</td>\n",
       "      <td>-1.6530733</td>\n",
       "      <td>4.071993</td>\n",
       "      <td>-2.1666346</td>\n",
       "      <td>1.3732569</td>\n",
       "      <td>-3.6062324</td>\n",
       "      <td>-0.18381554</td>\n",
       "      <td>4.0513835</td>\n",
       "      <td>3.0076945</td>\n",
       "      <td>0.7043306</td>\n",
       "      <td>-1.5771113121718234</td>\n",
       "      <td>-0.7073904756864189</td>\n",
       "      <td>-0.4251138004639507</td>\n",
       "      <td>0.9359187444728347</td>\n",
       "      <td>1.8484018802218969</td>\n",
       "      <td>-0.7358963172916891</td>\n",
       "      <td>0.28088270766408</td>\n",
       "      <td>-1.5164690148855384</td>\n",
       "      <td>-0.7832007100347228</td>\n",
       "      <td>-1.15698120438128</td>\n",
       "      <td>0.044299566087521024</td>\n",
       "      <td>1.093985741890274</td>\n",
       "      <td>0.7165596205952744</td>\n",
       "      <td>-1.8156329695901052</td>\n",
       "      <td>-0.7207451247172442</td>\n",
       "      <td>0.45966642064253443</td>\n",
       "      <td>-1.7912397592895442</td>\n",
       "      <td>0.8152485675990473</td>\n",
       "      <td>1.6086714758482308</td>\n",
       "      <td>0.8802646875048735</td>\n",
       "      <td>1530675</td>\n",
       "      <td>1.5258809</td>\n",
       "      <td>-0.19001324</td>\n",
       "      <td>1.2788416</td>\n",
       "      <td>0.2957799</td>\n",
       "      <td>5.120592</td>\n",
       "      <td>-0.81333625</td>\n",
       "      <td>0.36860123</td>\n",
       "      <td>-1.0603565</td>\n",
       "      <td>0.6554163</td>\n",
       "      <td>0.04953732</td>\n",
       "      <td>0.5552416</td>\n",
       "      <td>-0.91821814</td>\n",
       "      <td>1.4644842</td>\n",
       "      <td>-3.12459</td>\n",
       "      <td>3.2837317</td>\n",
       "      <td>-1.5440975</td>\n",
       "      <td>-1.5097299</td>\n",
       "      <td>2.8514457</td>\n",
       "      <td>1.726943</td>\n",
       "      <td>2.6225426</td>\n",
       "      <td>-0.23605136620035108</td>\n",
       "      <td>-0.3225552071636914</td>\n",
       "      <td>1.708455388596722</td>\n",
       "      <td>1.943835395497875</td>\n",
       "      <td>0.7660523194871157</td>\n",
       "      <td>-0.6644115678705471</td>\n",
       "      <td>-1.5947362903775506</td>\n",
       "      <td>2.66322226459735</td>\n",
       "      <td>0.7836688047863524</td>\n",
       "      <td>-1.2227004674824318</td>\n",
       "      <td>-1.1033240884544235</td>\n",
       "      <td>0.07491373230067883</td>\n",
       "      <td>-0.9649673033620803</td>\n",
       "      <td>-1.2364030969693824</td>\n",
       "      <td>-0.8178536104390608</td>\n",
       "      <td>-0.1831746588209915</td>\n",
       "      <td>0.6906881877891858</td>\n",
       "      <td>-0.7561545378512822</td>\n",
       "      <td>-1.0906621887149996</td>\n",
       "      <td>-0.2893069842709777</td>\n",
       "      <td>554</td>\n",
       "      <td>0.62</td>\n",
       "      <td>1385</td>\n",
       "      <td>1309.00</td>\n",
       "      <td>2.00</td>\n",
       "      <td>1</td>\n",
       "      <td>76.00</td>\n",
       "      <td>1.06</td>\n",
       "    </tr>\n",
       "    <tr>\n",
       "      <th>4</th>\n",
       "      <td>260</td>\n",
       "      <td>-0.17819308</td>\n",
       "      <td>-1.478142</td>\n",
       "      <td>-1.4146832</td>\n",
       "      <td>-0.6822971</td>\n",
       "      <td>3.9334455</td>\n",
       "      <td>-0.2089281</td>\n",
       "      <td>-3.0456312</td>\n",
       "      <td>1.122832</td>\n",
       "      <td>1.4620203</td>\n",
       "      <td>0.4489099</td>\n",
       "      <td>-1.8268281</td>\n",
       "      <td>-0.6323393</td>\n",
       "      <td>1.5888208</td>\n",
       "      <td>-4.043415</td>\n",
       "      <td>-0.920405</td>\n",
       "      <td>0.8858358</td>\n",
       "      <td>-0.8239445</td>\n",
       "      <td>2.6330462</td>\n",
       "      <td>0.27307382</td>\n",
       "      <td>-1.5771159</td>\n",
       "      <td>-0.9857225425442347</td>\n",
       "      <td>-0.5218043608213039</td>\n",
       "      <td>0.2389360434325937</td>\n",
       "      <td>-0.03912604215692163</td>\n",
       "      <td>-0.8048001020134095</td>\n",
       "      <td>0.23651799869915346</td>\n",
       "      <td>-1.148420424067301</td>\n",
       "      <td>-0.08752228557838591</td>\n",
       "      <td>2.1361650251220428</td>\n",
       "      <td>-2.194378866228123</td>\n",
       "      <td>0.06186158943682829</td>\n",
       "      <td>-0.07253963679269107</td>\n",
       "      <td>0.4811501222069879</td>\n",
       "      <td>0.43108050809003856</td>\n",
       "      <td>0.39401429354308304</td>\n",
       "      <td>0.6813013555736854</td>\n",
       "      <td>-0.08012119095391448</td>\n",
       "      <td>0.35545835023019673</td>\n",
       "      <td>-0.2674715433513765</td>\n",
       "      <td>-1.2181189931624057</td>\n",
       "      <td>1663052</td>\n",
       "      <td>0.2876249</td>\n",
       "      <td>-0.4381929</td>\n",
       "      <td>-2.6340823</td>\n",
       "      <td>1.6497982</td>\n",
       "      <td>5.469339</td>\n",
       "      <td>-0.78017676</td>\n",
       "      <td>-4.0552707</td>\n",
       "      <td>-2.4660652</td>\n",
       "      <td>1.2888254</td>\n",
       "      <td>-0.71348053</td>\n",
       "      <td>-2.8492773</td>\n",
       "      <td>-0.46685836</td>\n",
       "      <td>0.7435379</td>\n",
       "      <td>-0.89574003</td>\n",
       "      <td>-1.3699584</td>\n",
       "      <td>1.03855</td>\n",
       "      <td>-1.8170949</td>\n",
       "      <td>1.8898374</td>\n",
       "      <td>0.42229313</td>\n",
       "      <td>-2.3115194</td>\n",
       "      <td>-0.27912786257788263</td>\n",
       "      <td>0.11896043625404965</td>\n",
       "      <td>0.8263492133830367</td>\n",
       "      <td>-0.9030037326545493</td>\n",
       "      <td>-0.13963737767236473</td>\n",
       "      <td>1.4214426585333277</td>\n",
       "      <td>0.610730363106103</td>\n",
       "      <td>-0.16011885551776497</td>\n",
       "      <td>1.3386748131926427</td>\n",
       "      <td>0.4477142967168533</td>\n",
       "      <td>-0.17605181916677948</td>\n",
       "      <td>0.7089222358373823</td>\n",
       "      <td>0.5826090286201411</td>\n",
       "      <td>-0.46219083129971095</td>\n",
       "      <td>0.47111303946584693</td>\n",
       "      <td>-2.7648450368160673</td>\n",
       "      <td>0.49451565258497515</td>\n",
       "      <td>0.3669494524609763</td>\n",
       "      <td>-0.39480894687580625</td>\n",
       "      <td>0.5029028643593182</td>\n",
       "      <td>1183</td>\n",
       "      <td>0.38</td>\n",
       "      <td>39987</td>\n",
       "      <td>40090.00</td>\n",
       "      <td>2.00</td>\n",
       "      <td>1</td>\n",
       "      <td>103.00</td>\n",
       "      <td>1.00</td>\n",
       "    </tr>\n",
       "  </tbody>\n",
       "</table>\n",
       "</div>"
      ],
      "text/plain": [
       "   offer_depersanalised 1_image_offer 2_image_offer 3_image_offer  \\\n",
       "0                   206      2.459684     2.0333705      -2.15342   \n",
       "1                   206      2.459684     2.0333705      -2.15342   \n",
       "2                   206      2.459684     2.0333705      -2.15342   \n",
       "3                   242      3.528303   -0.12095541    -1.0855087   \n",
       "4                   260   -0.17819308     -1.478142    -1.4146832   \n",
       "\n",
       "  4_image_offer 5_image_offer 6_image_offer 7_image_offer 8_image_offer  \\\n",
       "0    -1.9531354    -1.5502602     0.4773374     1.5758542   0.111208156   \n",
       "1    -1.9531354    -1.5502602     0.4773374     1.5758542   0.111208156   \n",
       "2    -1.9531354    -1.5502602     0.4773374     1.5758542   0.111208156   \n",
       "3     0.2965388     1.5348091     0.7619788    -0.4868829     2.4172668   \n",
       "4    -0.6822971     3.9334455    -0.2089281    -3.0456312      1.122832   \n",
       "\n",
       "  9_image_offer 10_image_offer 11_image_offer 12_image_offer 13_image_offer  \\\n",
       "0    -1.4590214     -3.7468724     -1.0664066    -0.52251124     0.27266583   \n",
       "1    -1.4590214     -3.7468724     -1.0664066    -0.52251124     0.27266583   \n",
       "2    -1.4590214     -3.7468724     -1.0664066    -0.52251124     0.27266583   \n",
       "3     1.4167641      -2.651434    -0.32905486     -1.6530733       4.071993   \n",
       "4     1.4620203      0.4489099     -1.8268281     -0.6323393      1.5888208   \n",
       "\n",
       "  14_image_offer 15_image_offer 16_image_offer 17_image_offer 18_image_offer  \\\n",
       "0      1.0497209     0.47035435     -1.8075706    0.067405455     -2.7935052   \n",
       "1      1.0497209     0.47035435     -1.8075706    0.067405455     -2.7935052   \n",
       "2      1.0497209     0.47035435     -1.8075706    0.067405455     -2.7935052   \n",
       "3     -2.1666346      1.3732569     -3.6062324    -0.18381554      4.0513835   \n",
       "4      -4.043415      -0.920405      0.8858358     -0.8239445      2.6330462   \n",
       "\n",
       "  19_image_offer 20_image_offer        1_title_offer        2_title_offer  \\\n",
       "0      2.3493388    -0.26545385  -0.3878830158656558   1.9044972936171831   \n",
       "1      2.3493388    -0.26545385  -0.3878830158656558   1.9044972936171831   \n",
       "2      2.3493388    -0.26545385  -0.3878830158656558   1.9044972936171831   \n",
       "3      3.0076945      0.7043306  -1.5771113121718234  -0.7073904756864189   \n",
       "4     0.27307382     -1.5771159  -0.9857225425442347  -0.5218043608213039   \n",
       "\n",
       "         3_title_offer         4_title_offer        5_title_offer  \\\n",
       "0   0.5056816066695108   -0.9442945680588829   1.6971009754524917   \n",
       "1   0.5056816066695108   -0.9442945680588829   1.6971009754524917   \n",
       "2   0.5056816066695108   -0.9442945680588829   1.6971009754524917   \n",
       "3  -0.4251138004639507    0.9359187444728347   1.8484018802218969   \n",
       "4   0.2389360434325937  -0.03912604215692163  -0.8048001020134095   \n",
       "\n",
       "         6_title_offer        7_title_offer         8_title_offer  \\\n",
       "0   0.4090249519991355  -1.4673413629772774   -0.5056815958210994   \n",
       "1   0.4090249519991355  -1.4673413629772774   -0.5056815958210994   \n",
       "2   0.4090249519991355  -1.4673413629772774   -0.5056815958210994   \n",
       "3  -0.7358963172916891     0.28088270766408   -1.5164690148855384   \n",
       "4  0.23651799869915346   -1.148420424067301  -0.08752228557838591   \n",
       "\n",
       "         9_title_offer        10_title_offer        11_title_offer  \\\n",
       "0   0.2896054424997721  -0.03233320090846529   -0.9512857418682575   \n",
       "1   0.2896054424997721  -0.03233320090846529   -0.9512857418682575   \n",
       "2   0.2896054424997721  -0.03233320090846529   -0.9512857418682575   \n",
       "3  -0.7832007100347228     -1.15698120438128  0.044299566087521024   \n",
       "4   2.1361650251220428    -2.194378866228123   0.06186158943682829   \n",
       "\n",
       "         12_title_offer      13_title_offer       14_title_offer  \\\n",
       "0     0.650258974701912  1.2983854327698425   1.1890561851343453   \n",
       "1     0.650258974701912  1.2983854327698425   1.1890561851343453   \n",
       "2     0.650258974701912  1.2983854327698425   1.1890561851343453   \n",
       "3     1.093985741890274  0.7165596205952744  -1.8156329695901052   \n",
       "4  -0.07253963679269107  0.4811501222069879  0.43108050809003856   \n",
       "\n",
       "        15_title_offer       16_title_offer          17_title_offer  \\\n",
       "0   1.0099736815052909  -0.7832588448766675  -0.0029072189194727515   \n",
       "1   1.0099736815052909  -0.7832588448766675  -0.0029072189194727515   \n",
       "2   1.0099736815052909  -0.7832588448766675  -0.0029072189194727515   \n",
       "3  -0.7207451247172442  0.45966642064253443     -1.7912397592895442   \n",
       "4  0.39401429354308304   0.6813013555736854    -0.08012119095391448   \n",
       "\n",
       "         18_title_offer       19_title_offer       20_title_offer  \\\n",
       "0  0.049177616491258916  -1.0679587773976735   -1.325668668301797   \n",
       "1  0.049177616491258916  -1.0679587773976735   -1.325668668301797   \n",
       "2  0.049177616491258916  -1.0679587773976735   -1.325668668301797   \n",
       "3    0.8152485675990473   1.6086714758482308   0.8802646875048735   \n",
       "4   0.35545835023019673  -0.2674715433513765  -1.2181189931624057   \n",
       "\n",
       "   goods_depersanalised 1_image_goods 2_image_goods 3_image_goods  \\\n",
       "0                634545     0.4928074     1.0240449    -2.0250194   \n",
       "1                634543     0.4928074     1.0240449    -2.0250194   \n",
       "2                634544     0.4928074     1.0240449    -2.0250194   \n",
       "3               1530675     1.5258809   -0.19001324     1.2788416   \n",
       "4               1663052     0.2876249    -0.4381929    -2.6340823   \n",
       "\n",
       "  4_image_goods 5_image_goods 6_image_goods 7_image_goods 8_image_goods  \\\n",
       "0    -2.6193435    -1.6541759   -0.90821695     1.8607503     1.0576857   \n",
       "1    -2.6193435    -1.6541759   -0.90821695     1.8607503     1.0576857   \n",
       "2    -2.6193435    -1.6541759   -0.90821695     1.8607503     1.0576857   \n",
       "3     0.2957799      5.120592   -0.81333625    0.36860123    -1.0603565   \n",
       "4     1.6497982      5.469339   -0.78017676    -4.0552707    -2.4660652   \n",
       "\n",
       "  9_image_goods 10_image_goods 11_image_goods 12_image_goods 13_image_goods  \\\n",
       "0     -1.255598     -0.7790325     -1.0431384      0.5204499     -1.7797014   \n",
       "1     -1.255598     -0.7790325     -1.0431384      0.5204499     -1.7797014   \n",
       "2     -1.255598     -0.7790325     -1.0431384      0.5204499     -1.7797014   \n",
       "3     0.6554163     0.04953732      0.5552416    -0.91821814      1.4644842   \n",
       "4     1.2888254    -0.71348053     -2.8492773    -0.46685836      0.7435379   \n",
       "\n",
       "  14_image_goods 15_image_goods 16_image_goods 17_image_goods 18_image_goods  \\\n",
       "0       1.451368     0.20613135    -0.41353878    -0.50848836     -1.4780515   \n",
       "1       1.451368     0.20613135    -0.41353878    -0.50848836     -1.4780515   \n",
       "2       1.451368     0.20613135    -0.41353878    -0.50848836     -1.4780515   \n",
       "3       -3.12459      3.2837317     -1.5440975     -1.5097299      2.8514457   \n",
       "4    -0.89574003     -1.3699584        1.03855     -1.8170949      1.8898374   \n",
       "\n",
       "  19_image_goods 20_image_goods         1_title_goods        2_title_goods  \\\n",
       "0   -0.007988067      1.1042429   -0.5653165387709738   1.3900346274881432   \n",
       "1   -0.007988067      1.1042429   -0.2682997421725136   -1.661638181891044   \n",
       "2   -0.007988067      1.1042429    0.8180125822320748  -0.5684275419948163   \n",
       "3       1.726943      2.6225426  -0.23605136620035108  -0.3225552071636914   \n",
       "4     0.42229313     -2.3115194  -0.27912786257788263  0.11896043625404965   \n",
       "\n",
       "        3_title_goods         4_title_goods         5_title_goods  \\\n",
       "0  1.0312373948950473    0.7286039956767609  -0.09803822632062194   \n",
       "1  0.9532434318439609  -0.24491751637916917     0.666050022090358   \n",
       "2  0.6171171160682964    1.9543272392701851     0.782029130667218   \n",
       "3   1.708455388596722     1.943835395497875    0.7660523194871157   \n",
       "4  0.8263492133830367   -0.9030037326545493  -0.13963737767236473   \n",
       "\n",
       "         6_title_goods        7_title_goods          8_title_goods  \\\n",
       "0   0.3364488073829911   0.7316054446770403    -0.6724174906415714   \n",
       "1  -1.0142509653735354   0.6885503774854169  -0.015222041848315732   \n",
       "2  -0.9257083282076735  -1.0409411843867682     0.5215996111173704   \n",
       "3  -0.6644115678705471  -1.5947362903775506       2.66322226459735   \n",
       "4   1.4214426585333277    0.610730363106103   -0.16011885551776497   \n",
       "\n",
       "         9_title_goods        10_title_goods        11_title_goods  \\\n",
       "0   0.9839886826407003  -0.04132839943338788    0.4889116103925895   \n",
       "1  0.17869809347739396  -0.23141653988436392   -0.4097138708019194   \n",
       "2  -0.7343238484523569   -1.3652111392567308    0.6446109022912254   \n",
       "3   0.7836688047863524   -1.2227004674824318   -1.1033240884544235   \n",
       "4   1.3386748131926427    0.4477142967168533  -0.17605181916677948   \n",
       "\n",
       "        12_title_goods       13_title_goods        14_title_goods  \\\n",
       "0   0.3605181493200347  -0.6803309191821575    -1.855927732034519   \n",
       "1  -0.9014653250166297  -0.9805552462464647    0.3940310654303062   \n",
       "2  -1.0653681135319237   0.4072812739204559    0.7627325873879107   \n",
       "3  0.07491373230067883  -0.9649673033620803   -1.2364030969693824   \n",
       "4   0.7089222358373823   0.5826090286201411  -0.46219083129971095   \n",
       "\n",
       "        15_title_goods        16_title_goods       17_title_goods  \\\n",
       "0    0.544961495772344    0.6675252312845125   1.1971657904379573   \n",
       "1   0.6055323722077153   -0.6304665900431902  -1.3073320690928358   \n",
       "2   1.1904133156721113  -0.22059993339618875  -1.1834428311221319   \n",
       "3  -0.8178536104390608   -0.1831746588209915   0.6906881877891858   \n",
       "4  0.47111303946584693   -2.7648450368160673  0.49451565258497515   \n",
       "\n",
       "        18_title_goods        19_title_goods       20_title_goods  sum_length  \\\n",
       "0  -0.8017701243406684   -1.3019559282627382  -0.4521349765477918        1195   \n",
       "1   0.9658715968026671   0.24401398391448728   0.4374378117372806        1195   \n",
       "2  0.07803250502990693   0.24963680278584613  -0.7172806708766041        1195   \n",
       "3  -0.7561545378512822   -1.0906621887149996  -0.2893069842709777         554   \n",
       "4   0.3669494524609763  -0.39480894687580625   0.5029028643593182        1183   \n",
       "\n",
       "   attrs+title_score  offer_price  goods_price  goods_category_id  target  \\\n",
       "0               0.88        28799     15525.00               3.00       1   \n",
       "1               0.00        28799     10897.00               3.00       0   \n",
       "2               0.00        28799     15525.00               3.00       0   \n",
       "3               0.62         1385      1309.00               2.00       1   \n",
       "4               0.38        39987     40090.00               2.00       1   \n",
       "\n",
       "   difference  price_ratio  \n",
       "0    13274.00         1.86  \n",
       "1    17902.00         2.64  \n",
       "2    13274.00         1.86  \n",
       "3       76.00         1.06  \n",
       "4      103.00         1.00  "
      ]
     },
     "execution_count": 43,
     "metadata": {},
     "output_type": "execute_result"
    }
   ],
   "source": [
    "train.head()"
   ]
  },
  {
   "cell_type": "code",
   "execution_count": 44,
   "id": "3bd984a0",
   "metadata": {
    "id": "3bd984a0",
    "outputId": "9b84fce6-471c-416d-e083-d6cf6f805760"
   },
   "outputs": [
    {
     "name": "stdout",
     "output_type": "stream",
     "text": [
      "<class 'pandas.core.frame.DataFrame'>\n",
      "Int64Index: 432637 entries, 0 to 433357\n",
      "Data columns (total 90 columns):\n",
      " #   Column                Non-Null Count   Dtype  \n",
      "---  ------                --------------   -----  \n",
      " 0   offer_depersanalised  432637 non-null  int64  \n",
      " 1   1_image_offer         432637 non-null  object \n",
      " 2   2_image_offer         432637 non-null  object \n",
      " 3   3_image_offer         432637 non-null  object \n",
      " 4   4_image_offer         432637 non-null  object \n",
      " 5   5_image_offer         432637 non-null  object \n",
      " 6   6_image_offer         432637 non-null  object \n",
      " 7   7_image_offer         432637 non-null  object \n",
      " 8   8_image_offer         432637 non-null  object \n",
      " 9   9_image_offer         432637 non-null  object \n",
      " 10  10_image_offer        432637 non-null  object \n",
      " 11  11_image_offer        432637 non-null  object \n",
      " 12  12_image_offer        432637 non-null  object \n",
      " 13  13_image_offer        432637 non-null  object \n",
      " 14  14_image_offer        432637 non-null  object \n",
      " 15  15_image_offer        432637 non-null  object \n",
      " 16  16_image_offer        432637 non-null  object \n",
      " 17  17_image_offer        432637 non-null  object \n",
      " 18  18_image_offer        432637 non-null  object \n",
      " 19  19_image_offer        432637 non-null  object \n",
      " 20  20_image_offer        432637 non-null  object \n",
      " 21  1_title_offer         432637 non-null  object \n",
      " 22  2_title_offer         432637 non-null  object \n",
      " 23  3_title_offer         432637 non-null  object \n",
      " 24  4_title_offer         432637 non-null  object \n",
      " 25  5_title_offer         432637 non-null  object \n",
      " 26  6_title_offer         432637 non-null  object \n",
      " 27  7_title_offer         432637 non-null  object \n",
      " 28  8_title_offer         432637 non-null  object \n",
      " 29  9_title_offer         432637 non-null  object \n",
      " 30  10_title_offer        432637 non-null  object \n",
      " 31  11_title_offer        432637 non-null  object \n",
      " 32  12_title_offer        432637 non-null  object \n",
      " 33  13_title_offer        432637 non-null  object \n",
      " 34  14_title_offer        432637 non-null  object \n",
      " 35  15_title_offer        432637 non-null  object \n",
      " 36  16_title_offer        432637 non-null  object \n",
      " 37  17_title_offer        432637 non-null  object \n",
      " 38  18_title_offer        432637 non-null  object \n",
      " 39  19_title_offer        432637 non-null  object \n",
      " 40  20_title_offer        432637 non-null  object \n",
      " 41  goods_depersanalised  432637 non-null  int64  \n",
      " 42  1_image_goods         432637 non-null  object \n",
      " 43  2_image_goods         432637 non-null  object \n",
      " 44  3_image_goods         432637 non-null  object \n",
      " 45  4_image_goods         432637 non-null  object \n",
      " 46  5_image_goods         432637 non-null  object \n",
      " 47  6_image_goods         432637 non-null  object \n",
      " 48  7_image_goods         432637 non-null  object \n",
      " 49  8_image_goods         432637 non-null  object \n",
      " 50  9_image_goods         432637 non-null  object \n",
      " 51  10_image_goods        432637 non-null  object \n",
      " 52  11_image_goods        432637 non-null  object \n",
      " 53  12_image_goods        432637 non-null  object \n",
      " 54  13_image_goods        432637 non-null  object \n",
      " 55  14_image_goods        432637 non-null  object \n",
      " 56  15_image_goods        432637 non-null  object \n",
      " 57  16_image_goods        432637 non-null  object \n",
      " 58  17_image_goods        432637 non-null  object \n",
      " 59  18_image_goods        432637 non-null  object \n",
      " 60  19_image_goods        432637 non-null  object \n",
      " 61  20_image_goods        432637 non-null  object \n",
      " 62  1_title_goods         432637 non-null  object \n",
      " 63  2_title_goods         432637 non-null  object \n",
      " 64  3_title_goods         432637 non-null  object \n",
      " 65  4_title_goods         432637 non-null  object \n",
      " 66  5_title_goods         432637 non-null  object \n",
      " 67  6_title_goods         432637 non-null  object \n",
      " 68  7_title_goods         432637 non-null  object \n",
      " 69  8_title_goods         432637 non-null  object \n",
      " 70  9_title_goods         432637 non-null  object \n",
      " 71  10_title_goods        432637 non-null  object \n",
      " 72  11_title_goods        432637 non-null  object \n",
      " 73  12_title_goods        432637 non-null  object \n",
      " 74  13_title_goods        432637 non-null  object \n",
      " 75  14_title_goods        432637 non-null  object \n",
      " 76  15_title_goods        432637 non-null  object \n",
      " 77  16_title_goods        432637 non-null  object \n",
      " 78  17_title_goods        432637 non-null  object \n",
      " 79  18_title_goods        432637 non-null  object \n",
      " 80  19_title_goods        432637 non-null  object \n",
      " 81  20_title_goods        432637 non-null  object \n",
      " 82  sum_length            432637 non-null  int64  \n",
      " 83  attrs+title_score     432637 non-null  float64\n",
      " 84  offer_price           432637 non-null  int64  \n",
      " 85  goods_price           432637 non-null  float64\n",
      " 86  goods_category_id     432637 non-null  float64\n",
      " 87  target                432637 non-null  int64  \n",
      " 88  difference            432637 non-null  float64\n",
      " 89  price_ratio           432637 non-null  float64\n",
      "dtypes: float64(5), int64(5), object(80)\n",
      "memory usage: 300.4+ MB\n"
     ]
    }
   ],
   "source": [
    "train.info()"
   ]
  },
  {
   "cell_type": "markdown",
   "id": "7dd065d5",
   "metadata": {
    "id": "7dd065d5"
   },
   "source": [
    "## ИТОГ\n",
    "\n",
    "На этапе работы с векторами, была уменьшена размерность эмбеддингов с применением метода главных компонент`PCA(n_components=20)`. Получившийся двумерный массив был объединен с итоговым датафреймом "
   ]
  },
  {
   "cell_type": "markdown",
   "id": "9d2805d7",
   "metadata": {
    "id": "9d2805d7"
   },
   "source": [
    "# Обучение"
   ]
  },
  {
   "cell_type": "code",
   "execution_count": 45,
   "id": "18618931",
   "metadata": {
    "id": "18618931"
   },
   "outputs": [],
   "source": [
    "features = train.drop(['target'], axis=1)\n",
    "target = train['target']\n",
    "\n",
    "X_test = test.drop(['id'], axis=1)\n",
    "\n",
    "# Деление на выборки\n",
    "X_train, X_valid, y_train, y_valid = train_test_split(\n",
    "    features, target, test_size=TEST_SIZE, random_state=RANDOM_STATE, stratify=target)"
   ]
  },
  {
   "cell_type": "code",
   "execution_count": 46,
   "id": "d58a1cd2",
   "metadata": {
    "id": "d58a1cd2",
    "outputId": "e9977475-3d2a-40d4-f6fc-13ad35e7a28a"
   },
   "outputs": [
    {
     "name": "stdout",
     "output_type": "stream",
     "text": [
      "best_score: 0.9222813853955785\n",
      "best_params: {}\n",
      "CPU times: user 1h 31min 30s, sys: 1min 24s, total: 1h 32min 55s\n",
      "Wall time: 3h 31min 52s\n"
     ]
    }
   ],
   "source": [
    "%%time\n",
    "\n",
    "pipeline = Pipeline([\n",
    "    ('standard_scaler', StandardScaler()),\n",
    "    ('classifier', GradientBoostingClassifier(verbose=0, \n",
    "                                              max_depth=7, \n",
    "                                              n_estimators=150))\n",
    "])\n",
    "\n",
    "params = {\n",
    "    #'classifier__n_estimators': [50, 100, 200],\n",
    "    #'classifier__learning_rate': [0.01, 0.1, 1],\n",
    "    #'classifier__max_depth': [3, 5, 7]\n",
    "}\n",
    "\n",
    "grid_search = GridSearchCV(pipeline, \n",
    "                           params, \n",
    "                           scoring='f1',\n",
    "                           cv=5, \n",
    "                           error_score='raise', \n",
    "                           n_jobs=-1)\n",
    "\n",
    "grid_search.fit(X_train, y_train)\n",
    "\n",
    "print(f'best_score: {grid_search.best_score_}')\n",
    "print(f'best_params: {grid_search.best_params_}')"
   ]
  },
  {
   "cell_type": "code",
   "execution_count": 47,
   "id": "9b22144f",
   "metadata": {
    "id": "9b22144f",
    "outputId": "69d6a930-c404-4ab5-a714-48bb6f224b76"
   },
   "outputs": [
    {
     "name": "stdout",
     "output_type": "stream",
     "text": [
      "F1 на валидационном наборе данных: 0.9222478509929417\n"
     ]
    }
   ],
   "source": [
    "y_pred = grid_search.predict(X_valid)\n",
    "f1 = f1_score(y_valid, y_pred)\n",
    "\n",
    "print(\"F1 на валидационном наборе данных:\", f1)"
   ]
  },
  {
   "cell_type": "code",
   "execution_count": 48,
   "id": "1d59d441",
   "metadata": {
    "id": "1d59d441"
   },
   "outputs": [],
   "source": [
    "def error_matrix(model, X, y):\n",
    "\n",
    "    # Предсказания модели\n",
    "    y_pred = model.predict(X)\n",
    "\n",
    "    # Построение матрицы ошибок\n",
    "    cm = confusion_matrix(y, y_pred)\n",
    "\n",
    "    # Отображение матрицы ошибок в виде тепловой карты\n",
    "    plt.figure(figsize = (8, 6))\n",
    "    plt.title('Error matrix')\n",
    "\n",
    "    sns.heatmap(cm, annot=True, cmap='Blues', fmt='g')\n",
    "\n",
    "    plt.xlabel('Predicted')\n",
    "    plt.ylabel('Actual')\n",
    "    plt.show()"
   ]
  },
  {
   "cell_type": "code",
   "execution_count": 49,
   "id": "9e707a96",
   "metadata": {
    "id": "9e707a96",
    "outputId": "bdab17c8-9627-4c88-a0c8-94f38264b5af"
   },
   "outputs": [
    {
     "data": {
      "image/png": "[encoded data removed]",
      "text/plain": [
       "<Figure size 576x432 with 2 Axes>"
      ]
     },
     "metadata": {
      "needs_background": "light"
     },
     "output_type": "display_data"
    }
   ],
   "source": [
    "error_matrix(grid_search, X_train, y_train)"
   ]
  },
  {
   "cell_type": "code",
   "execution_count": 50,
   "id": "1b5bcf26",
   "metadata": {
    "id": "1b5bcf26",
    "outputId": "ef0c2794-abf9-4614-f374-43fc9a609584"
   },
   "outputs": [
    {
     "data": {
      "image/png": "[encoded data removed]",
      "text/plain": [
       "<Figure size 576x432 with 2 Axes>"
      ]
     },
     "metadata": {
      "needs_background": "light"
     },
     "output_type": "display_data"
    }
   ],
   "source": [
    "error_matrix(grid_search, X_valid, y_valid)"
   ]
  },
  {
   "cell_type": "markdown",
   "id": "c678f8c3",
   "metadata": {
    "id": "c678f8c3"
   },
   "source": [
    "*На данных без эмбеддингов и без дополнительных признаков метрика достигала 0.74*"
   ]
  },
  {
   "cell_type": "markdown",
   "id": "4e40c7ec-05f2-4ab9-8126-e936a6ca13d5",
   "metadata": {},
   "source": [
    "# Адекватность модели"
   ]
  },
  {
   "cell_type": "code",
   "execution_count": 55,
   "id": "7a37bf70-dda0-4da6-beb5-1551fe07b744",
   "metadata": {},
   "outputs": [
    {
     "name": "stdout",
     "output_type": "stream",
     "text": [
      "F1 фиктивной модели: 0.54\n",
      "F1 итоговой модели: 0.92\n"
     ]
    }
   ],
   "source": [
    "dummy_model = DummyClassifier(strategy='stratified')\n",
    "dummy_model.fit(X_train, y_train)\n",
    "dummy_pred = dummy_model.predict(X_valid)\n",
    "\n",
    "f1_dummy = f1_score(y_valid, dummy_pred)\n",
    "f1_ada = f1_score(y_valid, y_pred)\n",
    "\n",
    "print(\"F1 фиктивной модели: %0.2f\" % f1_dummy)\n",
    "print(\"F1 итоговой модели: %0.2f\" % f1_ada)"
   ]
  },
  {
   "cell_type": "markdown",
   "id": "23cba92d-dd45-4a81-9c3b-950f64b8ea6b",
   "metadata": {},
   "source": [
    "**Итоговая** модель намного **лучше фиктивной**, и может быть использована для прогнозирования"
   ]
  },
  {
   "cell_type": "markdown",
   "id": "65836cd7",
   "metadata": {
    "id": "65836cd7"
   },
   "source": [
    "# Отчет"
   ]
  },
  {
   "cell_type": "markdown",
   "id": "cb4b2b53",
   "metadata": {
    "id": "cb4b2b53"
   },
   "source": [
    "**Заказчик:** Разработчики ИТ-решений для ритейла `Samokat.Tech`.\n",
    "\n",
    "\n",
    "**Цель:** По данным товарных предложений продавцов (предложение) и товарного ассортимента маркетплейса «Мегамаркет» (товары), классифицировать, какой из пар является совпадением, а какой — нет.\n",
    "\n",
    "\n",
    "**Метрика:** Оценка качества модели будет производиться с использованием метрики F1."
   ]
  },
  {
   "cell_type": "markdown",
   "id": "95a5b1c4-34f1-4337-b32d-4967ec313480",
   "metadata": {},
   "source": [
    "Итоговый датасет был сформирован следующий образом:\n",
    "\n",
    "- Все значения в столбцах `offer_price` и `goods_price` превышающие порог в 100_000, для **сглаживания шума**,  были удалены.\n",
    "- **Пропуски** были изучены с помощью библиотеки `msno`, корреляции между пропусками нет, часть данных были заполнены заглушкой, часть медианой по группам соответствующих столбцов.\n",
    "- На этапе работы **c векторами**, была **уменьшена размерность** эмбеддингов до 20, с применением метода главных компонент. Получившийся двумерный массив был объединен с итоговым датафреймом.\n",
    "\n",
    "**Сгенерированные признаки:**\n",
    "```python\n",
    "- 'difference' - абсолютная разница между offer_price и goods_price\n",
    "- 'price_ratio' - отношение между ценой предложения и ценой товара\n",
    "```\n",
    "**Итоговые признаки**\n",
    "```python\n",
    "- 'sum_length' - суммарная длина пары названий и атрибутов в символах\n",
    "- 'attrs+title_score' - вероятность матча от рескоринговой модели\n",
    "- 'offer_price' и 'item_price' - цена предложения и товара соответственно\n",
    "- 'goods_category_id' - категория товара\n",
    "- 'id' - идентификатор пары offer_depersanalised + $ + goods_depersanalised\n",
    "- 'difference' - абсолютная разница между offer_price и goods_price\n",
    "- 'price_ratio' - отношение между ценой предложения и ценой товара\n",
    "- '_image_offer' и '_image_goods' - эмбеддинги изображений\n",
    "- '_title_offer' и '_title_goods' - эмбеддинги названий+атрибутов\n",
    "- 'target' - метка класса (0 - не матч, 1 - матч)\n",
    "```"
   ]
  },
  {
   "cell_type": "markdown",
   "id": "44f71797-2319-4bce-9cc3-d43abbc507ff",
   "metadata": {},
   "source": [
    "**Размер тестовой выборки:**\n",
    "\n",
    "```python\n",
    "test_size=.3 \n",
    "```\n",
    "**Параметр random_state:**\n",
    "```python\n",
    "random_state=123456\n",
    "```\n",
    "\n",
    "**Разделены на стратифицированные подгруппы**\n",
    "```python\n",
    "stratify=target \n",
    "```\n",
    "**Модель:**\n",
    "```python\n",
    "- GradientBoostingClassifier(verbose=0, \n",
    "                             max_depth=7, \n",
    "                             n_estimators=150)\n",
    "```\n",
    "**Значение:** 0.92\n",
    "\n",
    "*На данных без эмбеддингов и без дополнительных признаков метрика достигала 0.74*\n",
    "\n",
    "**Адекватность модели**\n",
    "\n",
    "```python\n",
    "F1 фиктивной модели: .54\n",
    "F1 адаптивного бустинга: .92\n",
    "```\n",
    "**Трудности в работе:** Возникли сложности с обучением моделей на локальных ресурсах из-за недостаточной вычислительной мощности, что замедляло процесс и требовало значительного времени."
   ]
  }
 ],
 "metadata": {
  "colab": {
   "provenance": []
  },
  "kernelspec": {
   "display_name": "Python 3 (ipykernel)",
   "language": "python",
   "name": "python3"
  },
  "language_info": {
   "codemirror_mode": {
    "name": "ipython",
    "version": 3
   },
   "file_extension": ".py",
   "mimetype": "text/x-python",
   "name": "python",
   "nbconvert_exporter": "python",
   "pygments_lexer": "ipython3",
   "version": "3.9.12"
  },
  "toc": {
   "base_numbering": 1,
   "nav_menu": {},
   "number_sections": true,
   "sideBar": true,
   "skip_h1_title": true,
   "title_cell": "Table of Contents",
   "title_sidebar": "Contents",
   "toc_cell": true,
   "toc_position": {},
   "toc_section_display": true,
   "toc_window_display": false
  }
 },
 "nbformat": 4,
 "nbformat_minor": 5
}
